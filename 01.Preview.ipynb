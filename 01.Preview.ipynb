{
 "cells": [
  {
   "cell_type": "markdown",
   "id": "ba606b12",
   "metadata": {},
   "source": [
    "# Python 기초\n",
    "## 111\n",
    "### 222\n",
    "#### 333\n",
    "##### 444\n",
    "- 111\n",
    "- 222\n",
    "- 333"
   ]
  },
  {
   "cell_type": "code",
   "execution_count": 2,
   "id": "8ebded55",
   "metadata": {},
   "outputs": [
    {
     "data": {
      "text/plain": [
       "3"
      ]
     },
     "execution_count": 2,
     "metadata": {},
     "output_type": "execute_result"
    }
   ],
   "source": [
    "# 덧셈\n",
    "1 + 2"
   ]
  },
  {
   "cell_type": "code",
   "execution_count": 3,
   "id": "b39a83f7",
   "metadata": {},
   "outputs": [
    {
     "data": {
      "text/plain": [
       "6"
      ]
     },
     "execution_count": 3,
     "metadata": {},
     "output_type": "execute_result"
    }
   ],
   "source": [
    "# 곱셈\n",
    "2 * 3"
   ]
  },
  {
   "cell_type": "code",
   "execution_count": 4,
   "id": "3938fd5f",
   "metadata": {},
   "outputs": [
    {
     "data": {
      "text/plain": [
       "3"
      ]
     },
     "execution_count": 4,
     "metadata": {},
     "output_type": "execute_result"
    }
   ],
   "source": [
    "# 뺄셈\n",
    "5 - 2"
   ]
  },
  {
   "cell_type": "code",
   "execution_count": 5,
   "id": "5ae22d06",
   "metadata": {},
   "outputs": [
    {
     "data": {
      "text/plain": [
       "1.5"
      ]
     },
     "execution_count": 5,
     "metadata": {},
     "output_type": "execute_result"
    }
   ],
   "source": [
    "# 실수 나눗셈 (파이썬의 기본 = 실수)\n",
    "\n",
    "3 / 2"
   ]
  },
  {
   "cell_type": "code",
   "execution_count": 6,
   "id": "bf8e3ebd",
   "metadata": {},
   "outputs": [
    {
     "data": {
      "text/plain": [
       "1"
      ]
     },
     "execution_count": 6,
     "metadata": {},
     "output_type": "execute_result"
    }
   ],
   "source": [
    "# 정수 나눗셈의 나머지\n",
    "5 % 2"
   ]
  },
  {
   "cell_type": "code",
   "execution_count": 7,
   "id": "61a27757",
   "metadata": {},
   "outputs": [
    {
     "data": {
      "text/plain": [
       "2"
      ]
     },
     "execution_count": 7,
     "metadata": {},
     "output_type": "execute_result"
    }
   ],
   "source": [
    "# 정수 나눗셈의 몫\n",
    "5 // 2"
   ]
  },
  {
   "cell_type": "markdown",
   "id": "702d385f",
   "metadata": {},
   "source": [
    "---"
   ]
  },
  {
   "cell_type": "markdown",
   "id": "1584fca1",
   "metadata": {},
   "source": [
    "### 변수에 대입하여 계산하기"
   ]
  },
  {
   "cell_type": "code",
   "execution_count": 9,
   "id": "27891049",
   "metadata": {},
   "outputs": [
    {
     "data": {
      "text/plain": [
       "7"
      ]
     },
     "execution_count": 9,
     "metadata": {},
     "output_type": "execute_result"
    }
   ],
   "source": [
    "# 변수에 정수를 할당하여 계산하기\n",
    "\n",
    "var_1 = 2\n",
    "var_2 = 5\n",
    "var_1 + var_2"
   ]
  },
  {
   "cell_type": "code",
   "execution_count": 10,
   "id": "641cd082",
   "metadata": {},
   "outputs": [
    {
     "data": {
      "text/plain": [
       "'python'"
      ]
     },
     "execution_count": 10,
     "metadata": {},
     "output_type": "execute_result"
    }
   ],
   "source": [
    "# 동일한 변수에 문자열을 할당하여 출력하기\n",
    "\n",
    "var_1 = 'python'\n",
    "var_1"
   ]
  },
  {
   "cell_type": "markdown",
   "id": "b4b362db",
   "metadata": {},
   "source": [
    "### 변수의 자료형은 데이터형을 유추하여 자료형이 변경된다."
   ]
  },
  {
   "cell_type": "markdown",
   "id": "3ed676bf",
   "metadata": {},
   "source": [
    "---"
   ]
  },
  {
   "cell_type": "markdown",
   "id": "d93ebc50",
   "metadata": {},
   "source": [
    "# 조건문"
   ]
  },
  {
   "cell_type": "code",
   "execution_count": 12,
   "id": "b8a568bd",
   "metadata": {},
   "outputs": [
    {
     "name": "stdout",
     "output_type": "stream",
     "text": [
      "var_1 is greater than 1\n",
      "var_1 is greater than 2\n"
     ]
    }
   ],
   "source": [
    "var_1 = 3\n",
    "\n",
    "# 여기서 자동으로 정수로 인식\n",
    "# Scope 는 띄어쓰기인 indent 로 인식한디 (Tab)\n",
    "\n",
    "if var_1 >1:\n",
    "    print('var_1 is greater than 1')\n",
    "\n",
    "    \n",
    "# 괄호 써도 상관없긴한데 잘 안쓴다고함\n",
    "\n",
    "if (var_1) >2:\n",
    "    print('var_1 is greater than 2')\n",
    "\n",
    "\n"
   ]
  },
  {
   "cell_type": "code",
   "execution_count": 13,
   "id": "a5845182",
   "metadata": {},
   "outputs": [
    {
     "name": "stdout",
     "output_type": "stream",
     "text": [
      "var_1 is grater tane var_2\n"
     ]
    }
   ],
   "source": [
    "var_1 = 4\n",
    "var_2 = 3\n",
    "\n",
    "if var_1 > var_2:\n",
    "    print('var_1 is grater tane var_2')\n"
   ]
  },
  {
   "cell_type": "markdown",
   "id": "6a2364a4",
   "metadata": {},
   "source": [
    "---"
   ]
  },
  {
   "cell_type": "markdown",
   "id": "74580aba",
   "metadata": {},
   "source": [
    "# 반복문"
   ]
  },
  {
   "cell_type": "code",
   "execution_count": 18,
   "id": "50a4ad4c",
   "metadata": {},
   "outputs": [
    {
     "name": "stdout",
     "output_type": "stream",
     "text": [
      "10\n",
      "20\n",
      "30\n",
      "10\n",
      "20\n",
      "30\n"
     ]
    }
   ],
   "source": [
    "# for in 문이다. 반복문은 DATA 중심이다!\n",
    "# in 뒤는 DATA 이다.\n",
    "for i in [10, 20, 30]:\n",
    "    print(i)\n",
    "    \n",
    "# 이렇게 써도 상관없다 [] 안에 들어가있는건 어차피 배열로 자동으로 인식한다.\n",
    "data = [10, 20, 30]\n",
    "for i in data:\n",
    "    print(i)"
   ]
  },
  {
   "cell_type": "code",
   "execution_count": 17,
   "id": "9ae8fd4c",
   "metadata": {},
   "outputs": [
    {
     "name": "stdout",
     "output_type": "stream",
     "text": [
      "10\n",
      "20\n",
      "30\n"
     ]
    }
   ],
   "source": [
    "i = 0\n",
    "while i < 30:\n",
    "    i = i + 10\n",
    "    print(i)\n",
    "\n",
    "# i++ i-- 두개는 없음!"
   ]
  },
  {
   "cell_type": "markdown",
   "id": "6b72fc88",
   "metadata": {},
   "source": [
    "---"
   ]
  },
  {
   "cell_type": "markdown",
   "id": "e386c1cb",
   "metadata": {},
   "source": [
    "# 함수"
   ]
  },
  {
   "cell_type": "code",
   "execution_count": 19,
   "id": "fb997d66",
   "metadata": {},
   "outputs": [],
   "source": [
    "# return 을 가지고 있는 형태\n",
    "\n",
    "def sumFumc(var01, var02):\n",
    "    return var01 + var02"
   ]
  },
  {
   "cell_type": "code",
   "execution_count": 20,
   "id": "7c025202",
   "metadata": {},
   "outputs": [
    {
     "data": {
      "text/plain": [
       "30"
      ]
     },
     "execution_count": 20,
     "metadata": {},
     "output_type": "execute_result"
    }
   ],
   "source": [
    "sumFumc(10, 20)"
   ]
  },
  {
   "cell_type": "code",
   "execution_count": 21,
   "id": "5e65d23d",
   "metadata": {},
   "outputs": [
    {
     "data": {
      "text/plain": [
       "'ab'"
      ]
     },
     "execution_count": 21,
     "metadata": {},
     "output_type": "execute_result"
    }
   ],
   "source": [
    "sumFumc('a', 'b')"
   ]
  },
  {
   "cell_type": "code",
   "execution_count": 22,
   "id": "627cd841",
   "metadata": {},
   "outputs": [
    {
     "data": {
      "text/plain": [
       "110.2"
      ]
     },
     "execution_count": 22,
     "metadata": {},
     "output_type": "execute_result"
    }
   ],
   "source": [
    "sumFumc(10.2, 100)"
   ]
  },
  {
   "cell_type": "markdown",
   "id": "ed304bcd",
   "metadata": {},
   "source": [
    "### 문자건 정수건 실수건 다 해줌! "
   ]
  },
  {
   "cell_type": "code",
   "execution_count": 24,
   "id": "18cf2e55",
   "metadata": {},
   "outputs": [
    {
     "data": {
      "text/plain": [
       "'aaa'"
      ]
     },
     "execution_count": 24,
     "metadata": {},
     "output_type": "execute_result"
    }
   ],
   "source": [
    "'a' * 3\n",
    "# 와우 이런거도 가능하네..\n",
    "\n",
    "# 'a' * 'b'\n",
    "# 이건 오류납니다."
   ]
  },
  {
   "cell_type": "code",
   "execution_count": 26,
   "id": "49ab8747",
   "metadata": {},
   "outputs": [],
   "source": [
    "# invalid syntax = null 값 ! 어딘가 빠져있다는 거임."
   ]
  },
  {
   "cell_type": "code",
   "execution_count": 28,
   "id": "6539d989",
   "metadata": {},
   "outputs": [],
   "source": [
    "# 저장할때 checkPoint 가 사라져야 저장된 것이다!"
   ]
  },
  {
   "cell_type": "code",
   "execution_count": 29,
   "id": "4212e425",
   "metadata": {},
   "outputs": [],
   "source": [
    "# 녹색으로 계속 있으면 메모리에 계속 있다는 것임!"
   ]
  },
  {
   "cell_type": "code",
   "execution_count": null,
   "id": "9cd078be",
   "metadata": {},
   "outputs": [],
   "source": []
  }
 ],
 "metadata": {
  "kernelspec": {
   "display_name": "Python 3",
   "language": "python",
   "name": "python3"
  },
  "language_info": {
   "codemirror_mode": {
    "name": "ipython",
    "version": 3
   },
   "file_extension": ".py",
   "mimetype": "text/x-python",
   "name": "python",
   "nbconvert_exporter": "python",
   "pygments_lexer": "ipython3",
   "version": "3.8.8"
  }
 },
 "nbformat": 4,
 "nbformat_minor": 5
}
