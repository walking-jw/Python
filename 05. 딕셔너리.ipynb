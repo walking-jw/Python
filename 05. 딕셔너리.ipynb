{
 "cells": [
  {
   "cell_type": "markdown",
   "id": "156cc9a0",
   "metadata": {},
   "source": [
    "# 딕셔너리 (Dictionary)\n",
    ": 순서가 정해있지 않고 key를 통해 value를 얻을 때 사용한다. "
   ]
  },
  {
   "cell_type": "code",
   "execution_count": 1,
   "id": "b6ec0a13",
   "metadata": {},
   "outputs": [],
   "source": [
    "# Dictionary 생성하기\n",
    "# {key, value} 중괄호를 사용합니다!\n",
    "dic = {'name':'petty', 'phone':'010-1111-2222', 'birth':'1231'}"
   ]
  },
  {
   "cell_type": "code",
   "execution_count": 4,
   "id": "ce2b6398",
   "metadata": {},
   "outputs": [
    {
     "data": {
      "text/plain": [
       "'petty'"
      ]
     },
     "execution_count": 4,
     "metadata": {},
     "output_type": "execute_result"
    }
   ],
   "source": [
    "dic['name']\n",
    "# 순서는 따로 없고, key 값이 순서값이다."
   ]
  },
  {
   "cell_type": "code",
   "execution_count": 5,
   "id": "72b82880",
   "metadata": {},
   "outputs": [
    {
     "data": {
      "text/plain": [
       "'1231'"
      ]
     },
     "execution_count": 5,
     "metadata": {},
     "output_type": "execute_result"
    }
   ],
   "source": [
    "dic['birth']"
   ]
  },
  {
   "cell_type": "code",
   "execution_count": 9,
   "id": "6e220abc",
   "metadata": {},
   "outputs": [
    {
     "name": "stdout",
     "output_type": "stream",
     "text": [
      "[1, 2, 3]\n",
      "1\n"
     ]
    }
   ],
   "source": [
    "dic01 = {'a':[1,2,3]}\n",
    "print(dic01['a'])\n",
    "print(dic01['a'][0])"
   ]
  },
  {
   "cell_type": "code",
   "execution_count": 10,
   "id": "14011694",
   "metadata": {},
   "outputs": [
    {
     "name": "stdout",
     "output_type": "stream",
     "text": [
      "{'a': [1, 2, 3], 'b': 'bbb', 'name': 'petty'}\n"
     ]
    }
   ],
   "source": [
    "dic01['b'] = 'bbb'\n",
    "dic01['name'] = 'petty'\n",
    "print(dic01)"
   ]
  },
  {
   "cell_type": "code",
   "execution_count": 11,
   "id": "9db9155d",
   "metadata": {},
   "outputs": [
    {
     "data": {
      "text/plain": [
       "{'a': [1, 2, 3], 'name': 'petty'}"
      ]
     },
     "execution_count": 11,
     "metadata": {},
     "output_type": "execute_result"
    }
   ],
   "source": [
    "del dic01['b']\n",
    "dic01"
   ]
  },
  {
   "cell_type": "markdown",
   "id": "61538a2c",
   "metadata": {},
   "source": [
    "# 딕셔너리 관련 함수"
   ]
  },
  {
   "cell_type": "code",
   "execution_count": 12,
   "id": "5dd71631",
   "metadata": {},
   "outputs": [
    {
     "data": {
      "text/plain": [
       "dict_keys(['name', 'phone', 'birth'])"
      ]
     },
     "execution_count": 12,
     "metadata": {},
     "output_type": "execute_result"
    }
   ],
   "source": [
    "dic = {'name':'petty', 'phone':'010-1111-2222', 'birth':'1231'}\n",
    "dic.keys()\n",
    "#dic.keys()[0]  오류!!"
   ]
  },
  {
   "cell_type": "code",
   "execution_count": 13,
   "id": "832141ce",
   "metadata": {},
   "outputs": [
    {
     "name": "stdout",
     "output_type": "stream",
     "text": [
      "name\n",
      "phone\n",
      "birth\n"
     ]
    }
   ],
   "source": [
    "for k in dic.keys():\n",
    "    print(k)"
   ]
  },
  {
   "cell_type": "code",
   "execution_count": 14,
   "id": "9055cd4e",
   "metadata": {},
   "outputs": [
    {
     "data": {
      "text/plain": [
       "['name', 'phone', 'birth']"
      ]
     },
     "execution_count": 14,
     "metadata": {},
     "output_type": "execute_result"
    }
   ],
   "source": [
    "# dic.keys 를 list로 변환하는 방법\n",
    "list(dic.keys())\n",
    "\n",
    "# 이렇게 되면 리스트처럼 불러오고 이런게 가능하다!"
   ]
  },
  {
   "cell_type": "code",
   "execution_count": 15,
   "id": "25cb13cf",
   "metadata": {},
   "outputs": [
    {
     "data": {
      "text/plain": [
       "'name'"
      ]
     },
     "execution_count": 15,
     "metadata": {},
     "output_type": "execute_result"
    }
   ],
   "source": [
    "# dic.keys 를 리스트로!\n",
    "dic_list = list(dic.keys())\n",
    "dic_list[0]"
   ]
  },
  {
   "cell_type": "code",
   "execution_count": null,
   "id": "fe06da00",
   "metadata": {},
   "outputs": [],
   "source": [
    "# 일단 리스트로 만드는 것이 작업하기에 좋다!"
   ]
  },
  {
   "cell_type": "code",
   "execution_count": 16,
   "id": "6dbef334",
   "metadata": {},
   "outputs": [
    {
     "data": {
      "text/plain": [
       "dict_values(['petty', '010-1111-2222', '1231'])"
      ]
     },
     "execution_count": 16,
     "metadata": {},
     "output_type": "execute_result"
    }
   ],
   "source": [
    "# Value\n",
    "dic.values()"
   ]
  },
  {
   "cell_type": "code",
   "execution_count": 17,
   "id": "32e27981",
   "metadata": {},
   "outputs": [
    {
     "data": {
      "text/plain": [
       "'petty'"
      ]
     },
     "execution_count": 17,
     "metadata": {},
     "output_type": "execute_result"
    }
   ],
   "source": [
    "dic_value = list(dic.values())\n",
    "dic_value[0]"
   ]
  },
  {
   "cell_type": "code",
   "execution_count": 18,
   "id": "02b28dd2",
   "metadata": {},
   "outputs": [
    {
     "data": {
      "text/plain": [
       "dict_items([('name', 'petty'), ('phone', '010-1111-2222'), ('birth', '1231')])"
      ]
     },
     "execution_count": 18,
     "metadata": {},
     "output_type": "execute_result"
    }
   ],
   "source": [
    "# key 와 value 를 함께 얻는 방법\n",
    "dic.items()"
   ]
  },
  {
   "cell_type": "code",
   "execution_count": 19,
   "id": "e7cbb5a1",
   "metadata": {},
   "outputs": [
    {
     "name": "stdout",
     "output_type": "stream",
     "text": [
      "name : petty\n",
      "phone : 010-1111-2222\n",
      "birth : 1231\n"
     ]
    }
   ],
   "source": [
    "for i in dic.items():\n",
    "    print(i[0], \":\", i[1])"
   ]
  },
  {
   "cell_type": "code",
   "execution_count": 20,
   "id": "96f938d2",
   "metadata": {},
   "outputs": [
    {
     "data": {
      "text/plain": [
       "[('name', 'petty'), ('phone', '010-1111-2222'), ('birth', '1231')]"
      ]
     },
     "execution_count": 20,
     "metadata": {},
     "output_type": "execute_result"
    }
   ],
   "source": [
    "# dic.items 를 list로 변환하기\n",
    "# name : petty\n",
    "\n",
    "list(dic.items())"
   ]
  },
  {
   "cell_type": "code",
   "execution_count": 31,
   "id": "e82aefde",
   "metadata": {},
   "outputs": [
    {
     "name": "stdout",
     "output_type": "stream",
     "text": [
      "('name', 'petty')\n",
      "name is petty\n",
      "name is petty\n",
      "phone is 010-1111-2222\n",
      "birth is 1231\n"
     ]
    }
   ],
   "source": [
    "dic_list = list(dic.items())\n",
    "print(dic_list[0])\n",
    "print(dic_list[0][0], 'is', dic_list[0][1])\n",
    "\n",
    "\n",
    "for i in range(0, 3):\n",
    "    print(dic_list[i][0],'is', dic_list[i][1])"
   ]
  },
  {
   "cell_type": "code",
   "execution_count": 32,
   "id": "a805129d",
   "metadata": {},
   "outputs": [
    {
     "data": {
      "text/plain": [
       "{'name': 'petty', 'phone': '010-1111-2222', 'birth': '1231'}"
      ]
     },
     "execution_count": 32,
     "metadata": {},
     "output_type": "execute_result"
    }
   ],
   "source": [
    "# 지우기\n",
    "dic"
   ]
  },
  {
   "cell_type": "code",
   "execution_count": 33,
   "id": "2640d695",
   "metadata": {},
   "outputs": [],
   "source": [
    "dic.clear()"
   ]
  },
  {
   "cell_type": "code",
   "execution_count": 34,
   "id": "4bc0bdd6",
   "metadata": {},
   "outputs": [
    {
     "data": {
      "text/plain": [
       "{}"
      ]
     },
     "execution_count": 34,
     "metadata": {},
     "output_type": "execute_result"
    }
   ],
   "source": [
    "dic"
   ]
  },
  {
   "cell_type": "code",
   "execution_count": 36,
   "id": "4ff6e2b5",
   "metadata": {},
   "outputs": [
    {
     "name": "stdout",
     "output_type": "stream",
     "text": [
      "True\n"
     ]
    }
   ],
   "source": [
    "dic = {'name':'petty', 'phone':'010-1111-2222', 'birth':'1231'}\n",
    "\n",
    "# boolean 값으로 있다 없다를 알 수 있다.\n",
    "print('name' in dic)"
   ]
  },
  {
   "cell_type": "code",
   "execution_count": null,
   "id": "186acc23",
   "metadata": {},
   "outputs": [],
   "source": []
  },
  {
   "cell_type": "code",
   "execution_count": null,
   "id": "d2b26222",
   "metadata": {},
   "outputs": [],
   "source": []
  },
  {
   "cell_type": "code",
   "execution_count": null,
   "id": "4db322e8",
   "metadata": {},
   "outputs": [],
   "source": []
  },
  {
   "cell_type": "code",
   "execution_count": null,
   "id": "a5006f51",
   "metadata": {},
   "outputs": [],
   "source": []
  },
  {
   "cell_type": "code",
   "execution_count": null,
   "id": "b5adf005",
   "metadata": {},
   "outputs": [],
   "source": []
  }
 ],
 "metadata": {
  "kernelspec": {
   "display_name": "Python 3",
   "language": "python",
   "name": "python3"
  },
  "language_info": {
   "codemirror_mode": {
    "name": "ipython",
    "version": 3
   },
   "file_extension": ".py",
   "mimetype": "text/x-python",
   "name": "python",
   "nbconvert_exporter": "python",
   "pygments_lexer": "ipython3",
   "version": "3.8.8"
  }
 },
 "nbformat": 4,
 "nbformat_minor": 5
}
