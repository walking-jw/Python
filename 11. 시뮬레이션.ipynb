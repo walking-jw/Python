{
 "cells": [
  {
   "cell_type": "markdown",
   "id": "4712ff2c",
   "metadata": {},
   "source": [
    "# 몬테카를로 시뮬레이션\n",
    ": 자료가 없을 경우 난수를 통해서 가설 증명하는 방법 "
   ]
  },
  {
   "cell_type": "markdown",
   "id": "79815baf",
   "metadata": {},
   "source": [
    "## 동전의 앞면과 뒷면이 나올 확률이 같다는 것을 증명"
   ]
  },
  {
   "cell_type": "code",
   "execution_count": 1,
   "id": "38d61767",
   "metadata": {},
   "outputs": [],
   "source": [
    "# 모듈 불러오기\n",
    "import random"
   ]
  },
  {
   "cell_type": "code",
   "execution_count": 2,
   "id": "bcc1a02b",
   "metadata": {},
   "outputs": [
    {
     "data": {
      "text/plain": [
       "8"
      ]
     },
     "execution_count": 2,
     "metadata": {},
     "output_type": "execute_result"
    }
   ],
   "source": [
    "random.randint(1, 10)"
   ]
  },
  {
   "cell_type": "code",
   "execution_count": 13,
   "id": "aee25280",
   "metadata": {},
   "outputs": [
    {
     "name": "stdout",
     "output_type": "stream",
     "text": [
      "뒷면\n"
     ]
    }
   ],
   "source": [
    "# 난수를 통한 방법\n",
    "x = random.randint(1, 2)\n",
    "if x == 1:\n",
    "    result = \"앞면\"\n",
    "else:\n",
    "    result = \"뒷면\"\n",
    "    \n",
    "print(result)"
   ]
  },
  {
   "cell_type": "code",
   "execution_count": 29,
   "id": "ab322c1a",
   "metadata": {},
   "outputs": [],
   "source": [
    "def coinF(n):\n",
    "    coinFront = coinRear = 0\n",
    "    for i in range(1, n+1):\n",
    "        x = random.randint(1,2)\n",
    "        if x == 1:\n",
    "            coinFront += 1\n",
    "        else:\n",
    "            coinRear += 1\n",
    "    print(\"%9d번 시도시 동전의 앞면은 %9d번이고, 동전의 뒷면은 %9d번 입니다\"%(n, coinFront, coinRear))\n",
    "    perFront = (coinFront/n)*100\n",
    "    perRear = (coinRear/n)*100\n",
    "    print(\"앞면이 나온 비율은 %.2f퍼센트이고, 뒷면이 나온 비율은 %.2f퍼센트이다.\"%(perFront, perRear))"
   ]
  },
  {
   "cell_type": "code",
   "execution_count": 30,
   "id": "57b7f66d",
   "metadata": {},
   "outputs": [
    {
     "name": "stdout",
     "output_type": "stream",
     "text": [
      "       10번 시도시 동전의 앞면은         3번이고, 동전의 뒷면은         7번 입니다\n",
      "앞면이 나온 비율은 30.00퍼센트이고, 뒷면이 나온 비율은 70.00퍼센트이다.\n",
      "    10000번 시도시 동전의 앞면은      5046번이고, 동전의 뒷면은      4954번 입니다\n",
      "앞면이 나온 비율은 50.46퍼센트이고, 뒷면이 나온 비율은 49.54퍼센트이다.\n",
      " 10000000번 시도시 동전의 앞면은   5002176번이고, 동전의 뒷면은   4997824번 입니다\n",
      "앞면이 나온 비율은 50.02퍼센트이고, 뒷면이 나온 비율은 49.98퍼센트이다.\n"
     ]
    }
   ],
   "source": [
    "coinF(10)\n",
    "coinF(10000)\n",
    "coinF(10000000)"
   ]
  },
  {
   "cell_type": "code",
   "execution_count": 3,
   "id": "f0d9a01d",
   "metadata": {},
   "outputs": [],
   "source": [
    "import random\n",
    "\n",
    "def funGame(str, n):\n",
    "    \n",
    "    win = lose = same = 0\n",
    "    # 1 = 가위, 2 = 바위, 3 = 보\n",
    "    for i in range(1, n+1):\n",
    "        x = random.randint(1, 3)\n",
    "        if str == '가위':\n",
    "            if x == 1:\n",
    "                same += 1\n",
    "            if x == 2:\n",
    "                lose += 1\n",
    "            if x == 3:\n",
    "                win += 1\n",
    "        elif str == '바위':\n",
    "            if x == 1:\n",
    "                win += 1\n",
    "            if x == 2:\n",
    "                same += 1\n",
    "            if x == 3:\n",
    "                lose += 1\n",
    "        elif str == '보':\n",
    "            if x == 1:\n",
    "                lose += 1\n",
    "            if x == 2:\n",
    "                win += 1\n",
    "            if x == 3:\n",
    "                same += 1\n",
    "    print(\"%3d번 중에 %3d번 이기고, %3d번 비기고, %3d번 졌습니다!\"%(n, win, same, lose))\n",
    "     "
   ]
  },
  {
   "cell_type": "code",
   "execution_count": 5,
   "id": "2248a503",
   "metadata": {},
   "outputs": [
    {
     "name": "stdout",
     "output_type": "stream",
     "text": [
      " 10번 중에   1번 이기고,   5번 비기고,   4번 졌습니다!\n"
     ]
    }
   ],
   "source": [
    "funGame('가위', 10)"
   ]
  },
  {
   "cell_type": "code",
   "execution_count": null,
   "id": "f52786d3",
   "metadata": {},
   "outputs": [],
   "source": []
  },
  {
   "cell_type": "code",
   "execution_count": null,
   "id": "af0b371a",
   "metadata": {},
   "outputs": [],
   "source": []
  }
 ],
 "metadata": {
  "kernelspec": {
   "display_name": "Python 3",
   "language": "python",
   "name": "python3"
  },
  "language_info": {
   "codemirror_mode": {
    "name": "ipython",
    "version": 3
   },
   "file_extension": ".py",
   "mimetype": "text/x-python",
   "name": "python",
   "nbconvert_exporter": "python",
   "pygments_lexer": "ipython3",
   "version": "3.8.8"
  }
 },
 "nbformat": 4,
 "nbformat_minor": 5
}
