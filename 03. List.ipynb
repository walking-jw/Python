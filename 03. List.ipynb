{
 "cells": [
  {
   "cell_type": "markdown",
   "id": "908f9078",
   "metadata": {},
   "source": [
    "# 리스트(list) 자료형\n",
    "- 숫자나 문자들의 모음을 하나의 자료형으로 표현하기 사용\n",
    "- format : listName = [e1, e2 ...]"
   ]
  },
  {
   "cell_type": "markdown",
   "id": "ca97a1ad",
   "metadata": {},
   "source": [
    "# 리스트 자료형 선언"
   ]
  },
  {
   "cell_type": "code",
   "execution_count": 2,
   "id": "89cc7922",
   "metadata": {},
   "outputs": [],
   "source": [
    "var01 = []        # 빈 리스트 만들었음\n",
    "var02 = [1,2,3]   # 숫자 있는 리스트\n",
    "var03 = ['I', \"have\", 'a', 'dream']\n",
    "var04 = [1, 2, 'dream', 'True']\n",
    "var05 = [1, 2, ['Dream', \"True\"]]"
   ]
  },
  {
   "cell_type": "markdown",
   "id": "49f5fa2c",
   "metadata": {},
   "source": [
    "# 리스트의 indexing과 Slicing"
   ]
  },
  {
   "cell_type": "code",
   "execution_count": 6,
   "id": "f34bf6fe",
   "metadata": {},
   "outputs": [
    {
     "name": "stdout",
     "output_type": "stream",
     "text": [
      "[]\n",
      "[1, 2, 3]\n",
      "['I', 'have', 'a', 'dream']\n",
      "[1, 2, 'dream', 'True']\n",
      "[1, 2, ['Dream', 'True']]\n",
      "['Dream', 'True']\n",
      "Dream\n"
     ]
    }
   ],
   "source": [
    "print(var01)\n",
    "print(var02)\n",
    "print(var03)\n",
    "print(var04)\n",
    "print(var05)\n",
    "\n",
    "print(var05[2])\n",
    "print(var05[2][0])"
   ]
  },
  {
   "cell_type": "code",
   "execution_count": 7,
   "id": "a885f134",
   "metadata": {},
   "outputs": [
    {
     "data": {
      "text/plain": [
       "3"
      ]
     },
     "execution_count": 7,
     "metadata": {},
     "output_type": "execute_result"
    }
   ],
   "source": [
    "# 리스트의 계산\n",
    "var02[0] + var02[1]"
   ]
  },
  {
   "cell_type": "code",
   "execution_count": 10,
   "id": "32ed981f",
   "metadata": {},
   "outputs": [
    {
     "name": "stdout",
     "output_type": "stream",
     "text": [
      "Dream\n"
     ]
    }
   ],
   "source": [
    "# 3중 리스트에서 indexing\n",
    "var = [1, 2, ['a', 'b', ['Dream', 'True']]]\n",
    "\n",
    "print(var[-1][-1][0])\n"
   ]
  },
  {
   "cell_type": "code",
   "execution_count": 11,
   "id": "5df30d77",
   "metadata": {},
   "outputs": [],
   "source": [
    "# 빈칸 없애기 -> 스플릿 -> for in 문으로 데이터 찾기"
   ]
  },
  {
   "cell_type": "code",
   "execution_count": 12,
   "id": "3bf0f01b",
   "metadata": {},
   "outputs": [
    {
     "name": "stdout",
     "output_type": "stream",
     "text": [
      "[['a', 'b', ['Dream', 'True']]]\n"
     ]
    }
   ],
   "source": [
    "print(var[2:])"
   ]
  },
  {
   "cell_type": "markdown",
   "id": "278a2ceb",
   "metadata": {},
   "source": [
    "---"
   ]
  },
  {
   "cell_type": "markdown",
   "id": "97d49c19",
   "metadata": {},
   "source": [
    "# 리스트 연산"
   ]
  },
  {
   "cell_type": "code",
   "execution_count": 17,
   "id": "9be42719",
   "metadata": {},
   "outputs": [
    {
     "data": {
      "text/plain": [
       "[1, 2, 3, 4, 5, 6]"
      ]
     },
     "execution_count": 17,
     "metadata": {},
     "output_type": "execute_result"
    }
   ],
   "source": [
    "# 리스트의 숫자 합치기\n",
    "var01 = [1,2,3]\n",
    "var02 = [4,5,6]\n",
    "var01 + var02"
   ]
  },
  {
   "cell_type": "code",
   "execution_count": 19,
   "id": "bb7a2d9d",
   "metadata": {},
   "outputs": [
    {
     "name": "stdout",
     "output_type": "stream",
     "text": [
      "5\n",
      "7\n",
      "9\n"
     ]
    }
   ],
   "source": [
    "# 리스트의 덧셈\n",
    "for i in range(0, 3):\n",
    "    print(var01[i] + var02[i])\n",
    "    "
   ]
  },
  {
   "cell_type": "code",
   "execution_count": 27,
   "id": "2efeac05",
   "metadata": {},
   "outputs": [
    {
     "name": "stdout",
     "output_type": "stream",
     "text": [
      "aspdnfpqn image\n",
      "image\n"
     ]
    }
   ],
   "source": [
    "imagename = 'aspdnfpqn image.jpg oaifnoqef'\n",
    "\n",
    "imagename.find('.jpg')\n",
    "str1 = imagename.split('.jpg')\n",
    "str2 = str1[0].split()\n",
    "print(str1[0])\n",
    "print(str2[-1])"
   ]
  },
  {
   "cell_type": "code",
   "execution_count": 20,
   "id": "f8f33da1",
   "metadata": {},
   "outputs": [
    {
     "data": {
      "text/plain": [
       "[1, 2, 3, 1, 2, 3, 1, 2, 3]"
      ]
     },
     "execution_count": 20,
     "metadata": {},
     "output_type": "execute_result"
    }
   ],
   "source": [
    "# 리스트의 숫자 반복\n",
    "var01 *3"
   ]
  },
  {
   "cell_type": "code",
   "execution_count": 21,
   "id": "024f4196",
   "metadata": {},
   "outputs": [
    {
     "name": "stdout",
     "output_type": "stream",
     "text": [
      "10\n",
      "20\n",
      "30\n"
     ]
    }
   ],
   "source": [
    "# 리스트의 곱셈\n",
    "# var01 의 data를 10배 계산하여 출력하기\n",
    "\n",
    "for i in var01:\n",
    "    print(i*10)"
   ]
  },
  {
   "cell_type": "code",
   "execution_count": 24,
   "id": "69eaf2f2",
   "metadata": {},
   "outputs": [
    {
     "name": "stdout",
     "output_type": "stream",
     "text": [
      "3번!\n"
     ]
    }
   ],
   "source": [
    "# 리스트 타입 변환\n",
    "var = [1,2,3]\n",
    "print(str(var[2]) + \"번!\")"
   ]
  },
  {
   "cell_type": "code",
   "execution_count": 65,
   "id": "2ddc9206",
   "metadata": {},
   "outputs": [],
   "source": [
    "temp = \"123\"\n",
    "temp1 = int(temp)\n",
    "temp1?"
   ]
  },
  {
   "cell_type": "markdown",
   "id": "3a45854b",
   "metadata": {},
   "source": [
    "---"
   ]
  },
  {
   "cell_type": "markdown",
   "id": "b747d743",
   "metadata": {},
   "source": [
    "# 리스트의 수정과 삭제"
   ]
  },
  {
   "cell_type": "code",
   "execution_count": 45,
   "id": "d86229ee",
   "metadata": {},
   "outputs": [
    {
     "data": {
      "text/plain": [
       "[1, 2, 4]"
      ]
     },
     "execution_count": 45,
     "metadata": {},
     "output_type": "execute_result"
    }
   ],
   "source": [
    "var = [1,2,3]\n",
    "var[2] = 4\n",
    "var"
   ]
  },
  {
   "cell_type": "code",
   "execution_count": 48,
   "id": "bbf08436",
   "metadata": {},
   "outputs": [
    {
     "data": {
      "text/plain": [
       "[1, 'a', 'b', 'c', 4]"
      ]
     },
     "execution_count": 48,
     "metadata": {},
     "output_type": "execute_result"
    }
   ],
   "source": [
    "var[1:2] = ['a', 'b', 'c']\n",
    "var"
   ]
  },
  {
   "cell_type": "code",
   "execution_count": 47,
   "id": "13819458",
   "metadata": {},
   "outputs": [
    {
     "data": {
      "text/plain": [
       "[1, 'c', 4]"
      ]
     },
     "execution_count": 47,
     "metadata": {},
     "output_type": "execute_result"
    }
   ],
   "source": [
    "var[1:3] = []\n",
    "var\n",
    "# Update의 개념"
   ]
  },
  {
   "cell_type": "code",
   "execution_count": 51,
   "id": "7a8516e2",
   "metadata": {},
   "outputs": [],
   "source": [
    "var?"
   ]
  },
  {
   "cell_type": "code",
   "execution_count": 50,
   "id": "708d9ad9",
   "metadata": {},
   "outputs": [
    {
     "data": {
      "text/plain": [
       "[1, 'c', 4]"
      ]
     },
     "execution_count": 50,
     "metadata": {},
     "output_type": "execute_result"
    }
   ],
   "source": [
    "del var[1:3]\n",
    "var\n",
    "# 삭제의 개념"
   ]
  },
  {
   "cell_type": "code",
   "execution_count": 52,
   "id": "2b425eb0",
   "metadata": {},
   "outputs": [],
   "source": [
    "# 리스트에 요소 추가\n",
    "var = [1,2,3]\n",
    "var.append(4)\n",
    "var?"
   ]
  },
  {
   "cell_type": "code",
   "execution_count": 53,
   "id": "4a2b8ca9",
   "metadata": {},
   "outputs": [],
   "source": [
    "var.append([5,6])"
   ]
  },
  {
   "cell_type": "code",
   "execution_count": 54,
   "id": "25829abc",
   "metadata": {},
   "outputs": [],
   "source": [
    "var?"
   ]
  },
  {
   "cell_type": "code",
   "execution_count": 59,
   "id": "6ce1768e",
   "metadata": {},
   "outputs": [
    {
     "name": "stdout",
     "output_type": "stream",
     "text": [
      "[1, 4, 3, 2]\n",
      "[1, 2, 3, 4]\n",
      "4\n",
      "4\n",
      "1\n"
     ]
    }
   ],
   "source": [
    "# 리스트의 정렬\n",
    "var = [1,4,3,2]\n",
    "print(var)\n",
    "\n",
    "# 오름차순 (바로 적용됩니다.)\n",
    "var.sort()\n",
    "print(var)\n",
    "\n",
    "# 내림차순 ( 최대치를 찾을때도 사용 가능하다!, 역시 바로적용 )\n",
    "var.reverse()\n",
    "print(var[0])\n",
    "\n",
    "# 최대값 & 최소값\n",
    "print(max(var))\n",
    "print(min(var))\n"
   ]
  },
  {
   "cell_type": "code",
   "execution_count": 64,
   "id": "210a9a00",
   "metadata": {},
   "outputs": [
    {
     "name": "stdout",
     "output_type": "stream",
     "text": [
      "['국', '대', '민', '한']\n",
      "['한', '민', '대', '국']\n"
     ]
    }
   ],
   "source": [
    "# append 는 추가 / 삽입은 원하는 곳에 넣기\n",
    "# 리스트 문자 정렬 : 한글\n",
    "var = ['대', '한', '민', '국']\n",
    "\n",
    "# 오름 & 내림\n",
    "var.sort()\n",
    "print(var)\n",
    "\n",
    "var.reverse()\n",
    "print(var)"
   ]
  },
  {
   "cell_type": "code",
   "execution_count": 67,
   "id": "4d3d0a38",
   "metadata": {},
   "outputs": [
    {
     "data": {
      "text/plain": [
       "1"
      ]
     },
     "execution_count": 67,
     "metadata": {},
     "output_type": "execute_result"
    }
   ],
   "source": [
    "# 리스트의 위치 정보\n",
    "var = [4,5,6]\n",
    "var.index(5)  # 5라는 애가 몇번지에 있어? , 정리가 잘 됐는지 확인할 때도 사용한다. "
   ]
  },
  {
   "cell_type": "code",
   "execution_count": 68,
   "id": "c01d1dd1",
   "metadata": {},
   "outputs": [
    {
     "data": {
      "text/plain": [
       "[4, 1, 2, 3]"
      ]
     },
     "execution_count": 68,
     "metadata": {},
     "output_type": "execute_result"
    }
   ],
   "source": [
    "# 리스트의 요소 삽입\n",
    "var = [1,2,3]\n",
    "var.insert(0, 4)  # append 는 뒤에 붙고, insert는 내가 원하는 곳에 넣을 수 있다!\n",
    "var"
   ]
  },
  {
   "cell_type": "code",
   "execution_count": 69,
   "id": "81af82e2",
   "metadata": {},
   "outputs": [
    {
     "data": {
      "text/plain": [
       "[1, 2, 3, 5, 6]"
      ]
     },
     "execution_count": 69,
     "metadata": {},
     "output_type": "execute_result"
    }
   ],
   "source": [
    "# 리스트에 요소 제거\n",
    "# del 은 내가 그 위치가 어딘지 알때 쓸 수 있다.\n",
    "\n",
    "var = [1,2,3,4,5,6]\n",
    "\n",
    "# 데이터(요소)가 4인 것을 지우기\n",
    "var.remove(4)\n",
    "var\n"
   ]
  },
  {
   "cell_type": "code",
   "execution_count": 70,
   "id": "4a79f9b9",
   "metadata": {},
   "outputs": [
    {
     "name": "stdout",
     "output_type": "stream",
     "text": [
      "3\n",
      "[1, 2]\n"
     ]
    }
   ],
   "source": [
    "# 리스트 요소 뽑아내기\n",
    "var = [1,2,3]\n",
    "print(var.pop())\n",
    "\n",
    "# 맨 뒤에 있는 데이터 요소를 지우는 것이 pop 이다!\n",
    "\n",
    "print(var)\n"
   ]
  },
  {
   "cell_type": "code",
   "execution_count": 71,
   "id": "cff08ae8",
   "metadata": {},
   "outputs": [
    {
     "name": "stdout",
     "output_type": "stream",
     "text": [
      "3\n",
      "[1, 2]\n",
      "2\n",
      "[1]\n",
      "1\n",
      "[]\n"
     ]
    }
   ],
   "source": [
    "# for 문을 사용한 pop\n",
    "\n",
    "var = [1,2,3]\n",
    "\n",
    "for i in range(0,3):\n",
    "    print(var.pop())\n",
    "    print(var)"
   ]
  },
  {
   "cell_type": "code",
   "execution_count": 73,
   "id": "c8d5efc4",
   "metadata": {},
   "outputs": [],
   "source": [
    "# 리스트의 확장\n",
    "var = [1,2,3,4]\n",
    "var1 =[5,6]\n",
    "var + var1\n",
    "\n",
    "# 이것을 적용시켜주려면! 2가지 방법이 있다.\n",
    "var = var + var1\n",
    "var.extend(var1)\n",
    "\n",
    "# 이것을 쓰는 때가... A.html, B.html, C.html 이렇게 일단 다 가져왔는데 분석하려면 이것들을 다 합쳐야한다! \n",
    "# 그럴때 이 extend 로 합쳐둔 다음에 작업을 하면 정확하게 알 수 있다. "
   ]
  },
  {
   "cell_type": "code",
   "execution_count": null,
   "id": "417b92ee",
   "metadata": {},
   "outputs": [],
   "source": []
  },
  {
   "cell_type": "code",
   "execution_count": null,
   "id": "218d32d4",
   "metadata": {},
   "outputs": [],
   "source": []
  },
  {
   "cell_type": "code",
   "execution_count": null,
   "id": "94484f02",
   "metadata": {},
   "outputs": [],
   "source": []
  },
  {
   "cell_type": "code",
   "execution_count": null,
   "id": "fe39fbd4",
   "metadata": {},
   "outputs": [],
   "source": []
  },
  {
   "cell_type": "code",
   "execution_count": null,
   "id": "c88a5791",
   "metadata": {},
   "outputs": [],
   "source": []
  }
 ],
 "metadata": {
  "kernelspec": {
   "display_name": "Python 3",
   "language": "python",
   "name": "python3"
  },
  "language_info": {
   "codemirror_mode": {
    "name": "ipython",
    "version": 3
   },
   "file_extension": ".py",
   "mimetype": "text/x-python",
   "name": "python",
   "nbconvert_exporter": "python",
   "pygments_lexer": "ipython3",
   "version": "3.8.8"
  }
 },
 "nbformat": 4,
 "nbformat_minor": 5
}
