{
 "cells": [
  {
   "cell_type": "markdown",
   "id": "7a78f1e5",
   "metadata": {},
   "source": [
    "# 데이터 다운로드 하기\n",
    ": 인터넷에서 지정된 파일을 내 PC에 저장하기"
   ]
  },
  {
   "cell_type": "code",
   "execution_count": 1,
   "id": "d3e8fe62",
   "metadata": {},
   "outputs": [
    {
     "name": "stdout",
     "output_type": "stream",
     "text": [
      "Save Complete !\n"
     ]
    }
   ],
   "source": [
    "# Library\n",
    "import urllib.request\n",
    "\n",
    "# URL과 저장경로 지정\n",
    "url = \"http://uta.pw/shodou/img/28/214.png\"\n",
    "savename=\"./Data/test.png\"\n",
    "\n",
    "# 다운로드 하기 (여기서 실행하는거임)\n",
    "urllib.request.urlretrieve(url, savename)\n",
    "print(\"Save Complete !\")"
   ]
  },
  {
   "cell_type": "code",
   "execution_count": 2,
   "id": "ef72d75f",
   "metadata": {},
   "outputs": [
    {
     "name": "stdout",
     "output_type": "stream",
     "text": [
      "Save Complete !\n"
     ]
    }
   ],
   "source": [
    "# 다른 버전으로 해보기!\n",
    "# Library\n",
    "import urllib.request\n",
    "\n",
    "# URL과 저장경로 지정\n",
    "url = \"http://uta.pw/shodou/img/28/214.png\"\n",
    "savename=\"./Data/test1.png\"\n",
    "\n",
    "# 다운로드하기\n",
    "mem = urllib.request.urlopen(url).read()    # 파일을 읽어서 내 메모리로 들어와 있는 상태\n",
    "\n",
    "# 파일로 저장하기 (write binary)\n",
    "with open(savename, \"wb\") as f:\n",
    "    f.write(mem)\n",
    "    print(\"Save Complete !\")"
   ]
  },
  {
   "cell_type": "markdown",
   "id": "971df37c",
   "metadata": {},
   "source": [
    "---"
   ]
  },
  {
   "cell_type": "markdown",
   "id": "74e136f9",
   "metadata": {},
   "source": [
    "# BeautifulSoup 로 Scraping 하기\n",
    ": 간단하게 HTML과 XML에서 정보를 추출"
   ]
  },
  {
   "cell_type": "code",
   "execution_count": 3,
   "id": "e6ed1425",
   "metadata": {},
   "outputs": [],
   "source": [
    "# anaconda에 설치하기"
   ]
  },
  {
   "cell_type": "code",
   "execution_count": 4,
   "id": "54f0262a",
   "metadata": {},
   "outputs": [
    {
     "name": "stdout",
     "output_type": "stream",
     "text": [
      "Requirement already satisfied: beautifulsoup4 in /Users/parkjw/Anaconda/anaconda3/lib/python3.8/site-packages (4.9.3)\r\n",
      "Requirement already satisfied: soupsieve>1.2 in /Users/parkjw/Anaconda/anaconda3/lib/python3.8/site-packages (from beautifulsoup4) (2.2.1)\r\n"
     ]
    }
   ],
   "source": [
    "!pip install beautifulsoup4"
   ]
  },
  {
   "cell_type": "code",
   "execution_count": 5,
   "id": "9b8aed46",
   "metadata": {},
   "outputs": [
    {
     "name": "stdout",
     "output_type": "stream",
     "text": [
      "\n",
      "<html>\n",
      "<body>\n",
      "<h1> Header </h1>\n",
      "<p> Line 1을 서술 </p>\n",
      "</body>\n",
      "</html>\n",
      "\n",
      "h1=  Header \n",
      "h1=  Header \n",
      "p1=  Line 1을 서술 \n",
      "p1=  Line 1을 서술 \n"
     ]
    }
   ],
   "source": [
    "# 기본 사용법\n",
    "from bs4 import BeautifulSoup\n",
    "\n",
    "# HTML Samlple <tag> 를 통해서 가져온다.\n",
    "html = \"\"\"\n",
    "        <html>\n",
    "            <body>\n",
    "                <h1> Header </h1>\n",
    "                <p> Line 1을 서술 </p>\n",
    "            </body>\n",
    "        </html>\n",
    "\n",
    "\"\"\"\n",
    "\n",
    "# HTML 분석\n",
    "\n",
    "soup = BeautifulSoup(html, 'html.parser')    # HTML 타입으로 파싱 해주세요!\n",
    "print(soup)\n",
    "\n",
    "# Tag를 사용하여 불러오기!\n",
    "# 원하는 부분 추출하기\n",
    "h1 = soup.html.body.h1   # html 안에 ~ body 안에 ~ h1   -> <h1> Header </h1>\n",
    "p1 = soup.html.body.p    # html 안에 ~ body 안에 ~ h1   -> <p> Line 1을 서술 </p>\n",
    "\n",
    "# Text 만 출력하기\n",
    "# string 이랑 text 중 하나만 나올 경우도 있음\n",
    "print(\"h1=\", h1.string)\n",
    "print(\"h1=\", h1.text)\n",
    "\n",
    "print(\"p1=\", p1.string)\n",
    "print(\"p1=\", p1.text)"
   ]
  },
  {
   "cell_type": "code",
   "execution_count": 6,
   "id": "1baba9a6",
   "metadata": {},
   "outputs": [
    {
     "name": "stdout",
     "output_type": "stream",
     "text": [
      "<h1 id=\"title\"> Header </h1>\n",
      "<p id=\"body\"> Line 1을 서술 </p>\n",
      "title =   Header \n"
     ]
    }
   ],
   "source": [
    "# id로 요소를 추출하기\n",
    "\n",
    "from bs4 import BeautifulSoup\n",
    "\n",
    "# HTML Sample\n",
    "\n",
    "html = \"\"\"\n",
    "    <html>\n",
    "        <body>\n",
    "            <h1 id=\"title\"> Header </h1>\n",
    "            <p id=\"body\"> Line 1을 서술 </p>\n",
    "        </body>\n",
    "    </html>\n",
    "\"\"\"\n",
    "\n",
    "# HTML 분석\n",
    "soup = BeautifulSoup(html, \"html.parser\")\n",
    "\n",
    "# 원하는 부분 추출하기\n",
    "title = soup.find(id = 'title')\n",
    "body = soup.find(id = 'body')\n",
    "\n",
    "print(title)\n",
    "print(body)\n",
    "\n",
    "# text 만 출력\n",
    "print(\"title = \", title.string)"
   ]
  },
  {
   "cell_type": "code",
   "execution_count": 7,
   "id": "18a4e85c",
   "metadata": {},
   "outputs": [
    {
     "name": "stdout",
     "output_type": "stream",
     "text": [
      " naver  >>> http://www.naver.com\n",
      " daum  >>> http://www.daum.net\n"
     ]
    }
   ],
   "source": [
    "# 여러개의 요소 추출하기\n",
    "from bs4 import BeautifulSoup\n",
    "\n",
    "# Html Sample\n",
    "html = \"\"\"\n",
    "    <html>\n",
    "        <body>\n",
    "            <ul>\n",
    "                <li><a href=\"http://www.naver.com\"> naver </a> </li>\n",
    "                <li><a href=\"http://www.daum.net\"> daum </a> </li>\n",
    "            </ul>\n",
    "        </body>\n",
    "    </html>\n",
    "\"\"\"\n",
    "\n",
    "# html 분석\n",
    "soup = BeautifulSoup(html, 'html.parser')\n",
    "# 여러개 한번에 가져오기!!  List 형태로 가져온다\n",
    "# 원하는 부분 추출하기\n",
    "links = soup.find_all('a')\n",
    "\n",
    "# 링크 목록 출력\n",
    "for link in links:\n",
    "#     print(link.string)\n",
    "#     print(link.attrs['href'])\n",
    "    href = link.attrs['href']\n",
    "    text = link.string\n",
    "    print(text, \">>>\", href)"
   ]
  },
  {
   "cell_type": "code",
   "execution_count": 8,
   "id": "d54bb868",
   "metadata": {},
   "outputs": [
    {
     "ename": "SyntaxError",
     "evalue": "invalid syntax (<ipython-input-8-82d53e08784a>, line 1)",
     "output_type": "error",
     "traceback": [
      "\u001b[0;36m  File \u001b[0;32m\"<ipython-input-8-82d53e08784a>\"\u001b[0;36m, line \u001b[0;32m1\u001b[0m\n\u001b[0;31m    http://www.weather.go.kr/weather/forecast/mid-term-rss3.jsp?stnId=109\u001b[0m\n\u001b[0m         ^\u001b[0m\n\u001b[0;31mSyntaxError\u001b[0m\u001b[0;31m:\u001b[0m invalid syntax\n"
     ]
    }
   ],
   "source": [
    "http://www.weather.go.kr/weather/forecast/mid-term-rss3.jsp?stnId=109"
   ]
  },
  {
   "cell_type": "code",
   "execution_count": null,
   "id": "d67d339e",
   "metadata": {},
   "outputs": [],
   "source": [
    "# 기상청 자료 활용하기\n",
    "\n",
    "from bs4 import BeautifulSoup\n",
    "import urllib.request as req\n",
    "\n",
    "url = \"http://www.weather.go.kr/weather/forecast/mid-term-rss3.jsp?stnId=109\"\n",
    "\n",
    "# Data 가져오기\n",
    "res = req.urlopen(url)         # 여기서는 묶음으로 되어있어서 그냥 쓰면 안됩니다.\n",
    "soup = BeautifulSoup(res, \"html.parser\")\n",
    "# print(soup)\n",
    "\n",
    "# 원하는 데이터 추출하기\n",
    "title = soup.find('title').string\n",
    "print(title)\n",
    "wf = soup.find('wf').string\n",
    "\n",
    "\n",
    "# Split 을 쓰기 위해서는 string 타입이여야한다!!\n",
    "str_wf = str(wf)\n",
    "list_wf = str_wf.split('<br />')\n",
    "list_wf?\n",
    "\n",
    "for list in list_wf:\n",
    "    print(list)\n",
    "\n",
    "# 데이터 정리하기\n",
    "wf2 = str(wf)\n",
    "list_wf2 = list(wf2)\n",
    "except_char = ['<','b','r','/','>']\n",
    "result = \"\"\n",
    "\n",
    "for lwf in list_wf2:\n",
    "    if lwf not in except_char:\n",
    "        result += lwf\n",
    "        \n",
    "print(result)"
   ]
  },
  {
   "cell_type": "markdown",
   "id": "3c5b5285",
   "metadata": {},
   "source": [
    "# CSS 선택자 사용하기\n",
    "\n",
    ": soup.select_one() : css선택자로 요소 하나를 추출   \n",
    ": soup.select() : css선택자로 여러개를 리스트로 추출"
   ]
  },
  {
   "cell_type": "code",
   "execution_count": null,
   "id": "c5e01365",
   "metadata": {},
   "outputs": [],
   "source": [
    "from bs4 import BeautifulSoup\n",
    "\n",
    "html = \"\"\"\n",
    "    <html>\n",
    "        <body>\n",
    "            <div id = \"meigen\">\n",
    "                <h1> 위키 북스 </h1>\n",
    "                <ul class=\"items\">\n",
    "                    <li> 유니티 게임 이펙트 입문서 </li>\n",
    "                    <li> 스위프트로 시작하는 아이폰 앱 개발 교과서 </li>\n",
    "                    <li> 모던 웹사이트 디자인의 정석 </li>\n",
    "                </ul>\n",
    "            </div>\n",
    "        </body>\n",
    "    </html>\n",
    "\"\"\"\n",
    "\n",
    "soup = BeautifulSoup(html, \"html.parser\")\n",
    "\n",
    "# 필요한 부분 css로 추출하기\n",
    "# 타이틀 부분 추출하기\n",
    "h1 = soup.select_one(\"div#meigen > h1\").string     # div 중에 > h1\n",
    "print(h1)\n",
    "\n",
    "# id : #  , class : .  , > : 자손  ,  \" \" : 후손\n",
    "\n",
    "# 목록 부분 추출하기\n",
    "li_lists = soup.select(\"div#meigen > ul.items > li\")\n",
    "print(li_lists)\n",
    "for li in li_lists:\n",
    "    print(li.string)"
   ]
  },
  {
   "cell_type": "code",
   "execution_count": null,
   "id": "5fd96e1b",
   "metadata": {},
   "outputs": [],
   "source": [
    "# 네이버 금융에서 환율정보 추출하기\n",
    "# 가장먼저 사이트를 알아야한다\n",
    "# #exchangeList > li.on > a.head.usd > div > span.value\n",
    "\n",
    "from bs4 import BeautifulSoup\n",
    "import urllib.request as req\n",
    "\n",
    "url = https://finance.naver.com/marketindex/"
   ]
  },
  {
   "cell_type": "code",
   "execution_count": 2,
   "id": "31d44344",
   "metadata": {},
   "outputs": [
    {
     "name": "stdout",
     "output_type": "stream",
     "text": [
      "USD / KRW : 1,144.20\n"
     ]
    }
   ],
   "source": [
    "# 미국 환율 가져오기\n",
    "\n",
    "from bs4 import BeautifulSoup\n",
    "import urllib.request as req\n",
    "\n",
    "url = \"https://finance.naver.com/marketindex/\"\n",
    "res = req.urlopen(url)\n",
    "\n",
    "# HTML 분석\n",
    "soup = BeautifulSoup(res, \"html.parser\")\n",
    "\n",
    "# 데이터 추출하기\n",
    "price = soup.select_one(\"div.head_info > span.value\").string\n",
    "print(\"USD / KRW : \" + price)"
   ]
  },
  {
   "cell_type": "code",
   "execution_count": 1,
   "id": "33cbf593",
   "metadata": {},
   "outputs": [
    {
     "name": "stdout",
     "output_type": "stream",
     "text": [
      "미국 USD : 1,144.10\n",
      "일본 JPY(100엔) : 1,036.04\n",
      "유럽연합 EUR : 1,357.36\n",
      "중국 CNY : 176.83\n"
     ]
    }
   ],
   "source": [
    "# 미국, 일본, 유럽연합, 중국의 환율\n",
    "\n",
    "# Setting\n",
    "from bs4 import BeautifulSoup\n",
    "import urllib.request as request\n",
    "\n",
    "url = \"https://finance.naver.com/marketindex/\"\n",
    "res = request.urlopen(url)\n",
    "\n",
    "# HTML 분석\n",
    "soup = BeautifulSoup(res, \"html.parser\")\n",
    "\n",
    "\n",
    "# select -> list 로 가져온다!!\n",
    "\n",
    "# Data\n",
    "title = soup.select(\"h3.h_lst\")\n",
    "exchanges = soup.select(\"div.head_info > span.value\")\n",
    "for i in range(0,4):\n",
    "    print(title[i].string,\":\",exchanges[i].string)"
   ]
  },
  {
   "cell_type": "code",
   "execution_count": 76,
   "id": "e352d9d5",
   "metadata": {},
   "outputs": [
    {
     "name": "stdout",
     "output_type": "stream",
     "text": [
      "윤동주 시인의 작품들\n",
      "하늘과 바람과 별과 시 : 서시 https://ko.wikisource.org//wiki/%ED%95%98%EB%8A%98%EA%B3%BC_%EB%B0%94%EB%9E%8C%EA%B3%BC_%EB%B3%84%EA%B3%BC_%EC%8B%9C/%EC%84%9C%EC%8B%9C\n",
      "하늘과 바람과 별과 시 : 자화상 https://ko.wikisource.org//wiki/%ED%95%98%EB%8A%98%EA%B3%BC_%EB%B0%94%EB%9E%8C%EA%B3%BC_%EB%B3%84%EA%B3%BC_%EC%8B%9C/%EC%9E%90%ED%99%94%EC%83%81\n",
      "하늘과 바람과 별과 시 : 소년 https://ko.wikisource.org//wiki/%ED%95%98%EB%8A%98%EA%B3%BC_%EB%B0%94%EB%9E%8C%EA%B3%BC_%EB%B3%84%EA%B3%BC_%EC%8B%9C/%EC%86%8C%EB%85%84\n",
      "하늘과 바람과 별과 시 : 눈 오는 지도 https://ko.wikisource.org//wiki/%ED%95%98%EB%8A%98%EA%B3%BC_%EB%B0%94%EB%9E%8C%EA%B3%BC_%EB%B3%84%EA%B3%BC_%EC%8B%9C/%EB%88%88_%EC%98%A4%EB%8A%94_%EC%A7%80%EB%8F%84\n",
      "하늘과 바람과 별과 시 : 돌아와 보는 밤 https://ko.wikisource.org//wiki/%ED%95%98%EB%8A%98%EA%B3%BC_%EB%B0%94%EB%9E%8C%EA%B3%BC_%EB%B3%84%EA%B3%BC_%EC%8B%9C/%EB%8F%8C%EC%95%84%EC%99%80_%EB%B3%B4%EB%8A%94_%EB%B0%A4\n",
      "하늘과 바람과 별과 시 : 병원 https://ko.wikisource.org//wiki/%ED%95%98%EB%8A%98%EA%B3%BC_%EB%B0%94%EB%9E%8C%EA%B3%BC_%EB%B3%84%EA%B3%BC_%EC%8B%9C/%EB%B3%91%EC%9B%90\n",
      "하늘과 바람과 별과 시 : 새로운 길 https://ko.wikisource.org//wiki/%ED%95%98%EB%8A%98%EA%B3%BC_%EB%B0%94%EB%9E%8C%EA%B3%BC_%EB%B3%84%EA%B3%BC_%EC%8B%9C/%EC%83%88%EB%A1%9C%EC%9A%B4_%EA%B8%B8\n",
      "하늘과 바람과 별과 시 : 간판 없는 거리 https://ko.wikisource.org//wiki/%ED%95%98%EB%8A%98%EA%B3%BC_%EB%B0%94%EB%9E%8C%EA%B3%BC_%EB%B3%84%EA%B3%BC_%EC%8B%9C/%EA%B0%84%ED%8C%90_%EC%97%86%EB%8A%94_%EA%B1%B0%EB%A6%AC\n",
      "하늘과 바람과 별과 시 : 태초의 아침 https://ko.wikisource.org//wiki/%ED%95%98%EB%8A%98%EA%B3%BC_%EB%B0%94%EB%9E%8C%EA%B3%BC_%EB%B3%84%EA%B3%BC_%EC%8B%9C/%ED%83%9C%EC%B4%88%EC%9D%98_%EC%95%84%EC%B9%A8\n",
      "하늘과 바람과 별과 시 : 또 태초의 아침 https://ko.wikisource.org//wiki/%ED%95%98%EB%8A%98%EA%B3%BC_%EB%B0%94%EB%9E%8C%EA%B3%BC_%EB%B3%84%EA%B3%BC_%EC%8B%9C/%EB%98%90_%ED%83%9C%EC%B4%88%EC%9D%98_%EC%95%84%EC%B9%A8\n",
      "하늘과 바람과 별과 시 : 새벽이 올 때까지 https://ko.wikisource.org//wiki/%ED%95%98%EB%8A%98%EA%B3%BC_%EB%B0%94%EB%9E%8C%EA%B3%BC_%EB%B3%84%EA%B3%BC_%EC%8B%9C/%EC%83%88%EB%B2%BD%EC%9D%B4_%EC%98%AC_%EB%95%8C%EA%B9%8C%EC%A7%80\n",
      "하늘과 바람과 별과 시 : 무서운 시간 https://ko.wikisource.org//wiki/%ED%95%98%EB%8A%98%EA%B3%BC_%EB%B0%94%EB%9E%8C%EA%B3%BC_%EB%B3%84%EA%B3%BC_%EC%8B%9C/%EB%AC%B4%EC%84%9C%EC%9A%B4_%EC%8B%9C%EA%B0%84\n",
      "하늘과 바람과 별과 시 : 십자가 https://ko.wikisource.org//wiki/%ED%95%98%EB%8A%98%EA%B3%BC_%EB%B0%94%EB%9E%8C%EA%B3%BC_%EB%B3%84%EA%B3%BC_%EC%8B%9C/%EC%8B%AD%EC%9E%90%EA%B0%80\n",
      "하늘과 바람과 별과 시 : 바람이 불어 https://ko.wikisource.org//wiki/%ED%95%98%EB%8A%98%EA%B3%BC_%EB%B0%94%EB%9E%8C%EA%B3%BC_%EB%B3%84%EA%B3%BC_%EC%8B%9C/%EB%B0%94%EB%9E%8C%EC%9D%B4_%EB%B6%88%EC%96%B4\n",
      "하늘과 바람과 별과 시 : 슬픈 족속 https://ko.wikisource.org//wiki/%ED%95%98%EB%8A%98%EA%B3%BC_%EB%B0%94%EB%9E%8C%EA%B3%BC_%EB%B3%84%EA%B3%BC_%EC%8B%9C/%EC%8A%AC%ED%94%88_%EC%A1%B1%EC%86%8D\n",
      "하늘과 바람과 별과 시 : 눈감고 간다 https://ko.wikisource.org//wiki/%ED%95%98%EB%8A%98%EA%B3%BC_%EB%B0%94%EB%9E%8C%EA%B3%BC_%EB%B3%84%EA%B3%BC_%EC%8B%9C/%EB%88%88%EA%B0%90%EA%B3%A0_%EA%B0%84%EB%8B%A4\n",
      "하늘과 바람과 별과 시 : 또 다른 고향 https://ko.wikisource.org//wiki/%ED%95%98%EB%8A%98%EA%B3%BC_%EB%B0%94%EB%9E%8C%EA%B3%BC_%EB%B3%84%EA%B3%BC_%EC%8B%9C/%EB%98%90_%EB%8B%A4%EB%A5%B8_%EA%B3%A0%ED%96%A5\n",
      "하늘과 바람과 별과 시 : 길 https://ko.wikisource.org//wiki/%ED%95%98%EB%8A%98%EA%B3%BC_%EB%B0%94%EB%9E%8C%EA%B3%BC_%EB%B3%84%EA%B3%BC_%EC%8B%9C/%EA%B8%B8\n",
      "하늘과 바람과 별과 시 : 별 헤는 밤 https://ko.wikisource.org//wiki/%ED%95%98%EB%8A%98%EA%B3%BC_%EB%B0%94%EB%9E%8C%EA%B3%BC_%EB%B3%84%EA%B3%BC_%EC%8B%9C/%EB%B3%84_%ED%97%A4%EB%8A%94_%EB%B0%A4\n",
      "흰 그림자 https://ko.wikisource.org//wiki/%ED%9D%B0_%EA%B7%B8%EB%A6%BC%EC%9E%90\n",
      "사랑스런 추억 https://ko.wikisource.org//wiki/%EC%82%AC%EB%9E%91%EC%8A%A4%EB%9F%B0_%EC%B6%94%EC%96%B5\n",
      "흐르는 거리 https://ko.wikisource.org//wiki/%ED%9D%90%EB%A5%B4%EB%8A%94_%EA%B1%B0%EB%A6%AC\n",
      "봄 https://ko.wikisource.org//wiki/%EB%B4%84_(%EC%9C%A4%EB%8F%99%EC%A3%BC)\n",
      "참회록 https://ko.wikisource.org//wiki/%EC%B0%B8%ED%9A%8C%EB%A1%9D\n",
      "간(肝) https://ko.wikisource.org//wiki/%EA%B0%84\n",
      "위로 https://ko.wikisource.org//wiki/%EC%9C%84%EB%A1%9C\n",
      "팔복 https://ko.wikisource.org//wiki/%ED%8C%94%EB%B3%B5\n",
      "못자는밤 https://ko.wikisource.org//wiki/%EB%AA%BB%EC%9E%90%EB%8A%94%EB%B0%A4\n",
      "달같이 https://ko.wikisource.org//wiki/%EB%8B%AC%EA%B0%99%EC%9D%B4\n",
      "고추밭 https://ko.wikisource.org//wiki/%EA%B3%A0%EC%B6%94%EB%B0%AD\n",
      "아우의 인상화 https://ko.wikisource.org//wiki/%EC%95%84%EC%9A%B0%EC%9D%98_%EC%9D%B8%EC%83%81%ED%99%94\n",
      "사랑의 전당 https://ko.wikisource.org//wiki/%EC%82%AC%EB%9E%91%EC%9D%98_%EC%A0%84%EB%8B%B9\n",
      "이적 https://ko.wikisource.org//wiki/%EC%9D%B4%EC%A0%81_(%EC%9C%A4%EB%8F%99%EC%A3%BC)\n",
      "비오는 밤 https://ko.wikisource.org//wiki/%EB%B9%84%EC%98%A4%EB%8A%94_%EB%B0%A4\n",
      "산골물 https://ko.wikisource.org//wiki/%EC%82%B0%EA%B3%A8%EB%AC%BC\n",
      "유언 https://ko.wikisource.org//wiki/%EC%9C%A0%EC%96%B8_(%EC%9C%A4%EB%8F%99%EC%A3%BC)\n",
      "창 https://ko.wikisource.org//wiki/%EC%B0%BD_(%EC%9C%A4%EB%8F%99%EC%A3%BC)\n",
      "바다 https://ko.wikisource.org//wiki/%EB%B0%94%EB%8B%A4_(%EC%9C%A4%EB%8F%99%EC%A3%BC)\n",
      "비로봉 https://ko.wikisource.org//wiki/%EB%B9%84%EB%A1%9C%EB%B4%89_(%EC%9C%A4%EB%8F%99%EC%A3%BC)\n",
      "산협의 오후 https://ko.wikisource.org//wiki/%EC%82%B0%ED%98%91%EC%9D%98_%EC%98%A4%ED%9B%84\n",
      "명상 https://ko.wikisource.org//wiki/%EB%AA%85%EC%83%81_(%EC%9C%A4%EB%8F%99%EC%A3%BC)\n",
      "소낙비 https://ko.wikisource.org//wiki/%EC%86%8C%EB%82%99%EB%B9%84_(%EC%9C%A4%EB%8F%99%EC%A3%BC)\n",
      "한난계 https://ko.wikisource.org//wiki/%ED%95%9C%EB%82%9C%EA%B3%84\n",
      "풍경 https://ko.wikisource.org//wiki/%ED%92%8D%EA%B2%BD\n",
      "달밤 https://ko.wikisource.org//wiki/%EB%8B%AC%EB%B0%A4_(%EC%9C%A4%EB%8F%99%EC%A3%BC)\n",
      "장 https://ko.wikisource.org//wiki/%EC%9E%A5_(%EC%9C%A4%EB%8F%99%EC%A3%BC)\n",
      "밤 https://ko.wikisource.org//wiki/%EB%B0%A4_(%EC%9C%A4%EB%8F%99%EC%A3%BC)\n",
      "황혼이 바다가 되어 https://ko.wikisource.org//wiki/%ED%99%A9%ED%98%BC%EC%9D%B4_%EB%B0%94%EB%8B%A4%EA%B0%80_%EB%90%98%EC%96%B4\n",
      "아침 https://ko.wikisource.org//wiki/%EC%95%84%EC%B9%A8_(%EC%9C%A4%EB%8F%99%EC%A3%BC)\n",
      "빨래 https://ko.wikisource.org//wiki/%EB%B9%A8%EB%9E%98\n",
      "꿈은 깨어지고 https://ko.wikisource.org//wiki/%EA%BF%88%EC%9D%80_%EA%B9%A8%EC%96%B4%EC%A7%80%EA%B3%A0\n",
      "산림 https://ko.wikisource.org//wiki/%EC%82%B0%EB%A6%BC_(%EC%9C%A4%EB%8F%99%EC%A3%BC)\n",
      "이런날 https://ko.wikisource.org//wiki/%EC%9D%B4%EB%9F%B0%EB%82%A0\n",
      "산상 https://ko.wikisource.org//wiki/%EC%82%B0%EC%83%81\n",
      "양지쪽 https://ko.wikisource.org//wiki/%EC%96%91%EC%A7%80%EC%AA%BD\n",
      "닭 https://ko.wikisource.org//wiki/%EB%8B%AD_(%EC%9C%A4%EB%8F%99%EC%A3%BC)\n",
      "가슴 1 https://ko.wikisource.org//wiki/%EA%B0%80%EC%8A%B4_1\n",
      "가슴 2 https://ko.wikisource.org//wiki/%EA%B0%80%EC%8A%B4_2\n",
      "비둘기 https://ko.wikisource.org//wiki/%EB%B9%84%EB%91%98%EA%B8%B0_(%EC%9C%A4%EB%8F%99%EC%A3%BC)\n",
      "황혼 https://ko.wikisource.org//wiki/%ED%99%A9%ED%98%BC_(%EC%9C%A4%EB%8F%99%EC%A3%BC)\n",
      "남쪽 하늘 https://ko.wikisource.org//wiki/%EB%82%A8%EC%AA%BD_%ED%95%98%EB%8A%98\n",
      "창공 https://ko.wikisource.org//wiki/%EC%B0%BD%EA%B3%B5\n",
      "거리에서 https://ko.wikisource.org//wiki/%EA%B1%B0%EB%A6%AC%EC%97%90%EC%84%9C\n",
      "삶과 죽음 https://ko.wikisource.org//wiki/%EC%82%B6%EA%B3%BC_%EC%A3%BD%EC%9D%8C\n",
      "초한대 https://ko.wikisource.org//wiki/%EC%B4%88%ED%95%9C%EB%8C%80\n",
      "산울림 https://ko.wikisource.org//wiki/%EC%82%B0%EC%9A%B8%EB%A6%BC\n",
      "해바라기 얼굴 https://ko.wikisource.org//wiki/%ED%95%B4%EB%B0%94%EB%9D%BC%EA%B8%B0_%EC%96%BC%EA%B5%B4\n",
      "귀뚜라미와 나와 https://ko.wikisource.org//wiki/%EA%B7%80%EB%9A%9C%EB%9D%BC%EB%AF%B8%EC%99%80_%EB%82%98%EC%99%80\n",
      "애기의 새벽 https://ko.wikisource.org//wiki/%EC%95%A0%EA%B8%B0%EC%9D%98_%EC%83%88%EB%B2%BD\n",
      "햇빛·바람 https://ko.wikisource.org//wiki/%ED%96%87%EB%B9%9B%C2%B7%EB%B0%94%EB%9E%8C\n",
      "반디불 https://ko.wikisource.org//wiki/%EB%B0%98%EB%94%94%EB%B6%88\n",
      "둘 다 https://ko.wikisource.org//wiki/%EB%91%98_%EB%8B%A4\n",
      "거짓부리 https://ko.wikisource.org//wiki/%EA%B1%B0%EC%A7%93%EB%B6%80%EB%A6%AC\n",
      "눈 https://ko.wikisource.org//wiki/%EB%88%88_(%EC%9C%A4%EB%8F%99%EC%A3%BC)\n",
      "참새 https://ko.wikisource.org//wiki/%EC%B0%B8%EC%83%88_(%EC%9C%A4%EB%8F%99%EC%A3%BC)\n",
      "버선본 https://ko.wikisource.org//wiki/%EB%B2%84%EC%84%A0%EB%B3%B8\n",
      "편지 https://ko.wikisource.org//wiki/%ED%8E%B8%EC%A7%80_(%EC%9C%A4%EB%8F%99%EC%A3%BC)\n",
      "봄 https://ko.wikisource.org//wiki/%EB%B4%84_2_(%EC%9C%A4%EB%8F%99%EC%A3%BC)\n",
      "무얼 먹구 사나 https://ko.wikisource.org//wiki/%EB%AC%B4%EC%96%BC_%EB%A8%B9%EA%B5%AC_%EC%82%AC%EB%82%98\n",
      "굴뚝 https://ko.wikisource.org//wiki/%EA%B5%B4%EB%9A%9D_(%EC%9C%A4%EB%8F%99%EC%A3%BC)\n",
      "햇비 https://ko.wikisource.org//wiki/%ED%96%87%EB%B9%84\n",
      "빗자루 https://ko.wikisource.org//wiki/%EB%B9%97%EC%9E%90%EB%A3%A8\n",
      "기왓장 내외 https://ko.wikisource.org//wiki/%EA%B8%B0%EC%99%93%EC%9E%A5_%EB%82%B4%EC%99%B8\n",
      "오줌싸개 지도 https://ko.wikisource.org//wiki/%EC%98%A4%EC%A4%8C%EC%8B%B8%EA%B0%9C_%EC%A7%80%EB%8F%84\n",
      "병아리 https://ko.wikisource.org//wiki/%EB%B3%91%EC%95%84%EB%A6%AC\n",
      "조개껍질 https://ko.wikisource.org//wiki/%EC%A1%B0%EA%B0%9C%EA%BB%8D%EC%A7%88\n",
      "겨울 https://ko.wikisource.org//wiki/%EA%B2%A8%EC%9A%B8_(%EC%9C%A4%EB%8F%99%EC%A3%BC)\n",
      "트루게네프의 언덕 https://ko.wikisource.org//wiki/%ED%8A%B8%EB%A3%A8%EA%B2%8C%EB%84%A4%ED%94%84%EC%9D%98_%EC%96%B8%EB%8D%95\n",
      "달을 쏘다 https://ko.wikisource.org//wiki/%EB%8B%AC%EC%9D%84_%EC%8F%98%EB%8B%A4\n",
      "별똥 떨어진 데 https://ko.wikisource.org//wiki/%EB%B3%84%EB%98%A5_%EB%96%A8%EC%96%B4%EC%A7%84_%EB%8D%B0\n",
      "화원에 꽃이 핀다 https://ko.wikisource.org//wiki/%ED%99%94%EC%9B%90%EC%97%90_%EA%BD%83%EC%9D%B4_%ED%95%80%EB%8B%A4\n",
      "종시 https://ko.wikisource.org//wiki/%EC%A2%85%EC%8B%9C\n"
     ]
    }
   ],
   "source": [
    "# 윤동주 시안 작품 가져오기\n",
    "# https://ko.wikisource.org/wiki/%EC%A0%80%EC%9E%90:%EC%9C%A4%EB%8F%99%EC%A3%BC\n",
    "#mw-content-text > div.mw-parser-output > ul:nth-child(6) > li > ul > li:nth-child(1) > a\n",
    "##mw-content-text > div.mw-parser-output > h3:nth-child(5)\n",
    "#mw-content-text > div.mw-parser-output > ul:nth-child(6) > li\n",
    "#mw-content-text > div.mw-parser-output > ul:nth-child(7) > li:nth-child(1)\n",
    "#mw-content-text > div.mw-parser-output > ul:nth-child(7) > li:nth-child(1) > a\n",
    "#mw-content-text > div.mw-parser-output > h3:nth-child(5)\n",
    "#mw-content-text > div.mw-parser-output > ul:nth-child(6)\n",
    "#mw-content-text > div.mw-parser-output\n",
    "\n",
    "# Setting\n",
    "from bs4 import BeautifulSoup\n",
    "import urllib.request as request\n",
    "\n",
    "url = \"https://ko.wikisource.org/wiki/%EC%A0%80%EC%9E%90:%EC%9C%A4%EB%8F%99%EC%A3%BC\"\n",
    "res = request.urlopen(url)\n",
    "\n",
    "soup = BeautifulSoup(res, \"html.parser\")\n",
    "\n",
    "\n",
    "# Data\n",
    "# 자손태그가 아니면 > 쓸 필요가 없다!!! 한칸만 띄어두면 댄다.\n",
    "\n",
    "poemsSky = soup.select(\"div.mw-parser-output > ul > li > ul > li > a\")\n",
    "linksSky = soup.find_all(\"div.mw-parser-output > ul > li > ul > li > a\")\n",
    "\n",
    "links = soup.find_all('div.mw-parser-output > ul > li > a')\n",
    "poems = soup.select(\"div.mw-parser-output > ul > li > a\")\n",
    "\n",
    "print(\"윤동주 시인의 작품들\")\n",
    "for poemsky in poemsSky:\n",
    "    href = \"https://ko.wikisource.org/\"+poemsky.attrs['href']\n",
    "    print(\"하늘과 바람과 별과 시 :\", poemsky.string, href)\n",
    "    \n",
    "for poem in poems:\n",
    "    href = \"https://ko.wikisource.org/\"+poem.attrs['href']\n",
    "    if poem.string != '증보판':\n",
    "        print(poem.string, href)\n",
    "\n",
    "\n",
    "        "
   ]
  },
  {
   "cell_type": "markdown",
   "id": "cd2dc5b4",
   "metadata": {},
   "source": [
    "# 다음 영화 연간 순위 가져오기"
   ]
  },
  {
   "cell_type": "code",
   "execution_count": null,
   "id": "c3ec9bf1",
   "metadata": {},
   "outputs": [],
   "source": [
    "#mainContent > div > div.box_boxoffice > ol > li:nth-child(1) > div > div.thumb_cont > strong > a\n",
    "#mainContent > div > div.box_boxoffice > ol > li:nth-child(2) > div > div.thumb_cont > strong > a"
   ]
  },
  {
   "cell_type": "code",
   "execution_count": 94,
   "id": "185968c3",
   "metadata": {},
   "outputs": [
    {
     "name": "stdout",
     "output_type": "stream",
     "text": [
      "Empty DataFrame\n",
      "Columns: [0]\n",
      "Index: []\n",
      "남산의 부장들\n"
     ]
    },
    {
     "ename": "ValueError",
     "evalue": "cannot set using a list-like indexer with a different length than the value",
     "output_type": "error",
     "traceback": [
      "\u001b[0;31m---------------------------------------------------------------------------\u001b[0m",
      "\u001b[0;31mValueError\u001b[0m                                Traceback (most recent call last)",
      "\u001b[0;32m<ipython-input-94-572a69961656>\u001b[0m in \u001b[0;36m<module>\u001b[0;34m\u001b[0m\n\u001b[1;32m     23\u001b[0m     \u001b[0mprint\u001b[0m\u001b[0;34m(\u001b[0m\u001b[0mi\u001b[0m\u001b[0;34m.\u001b[0m\u001b[0mstring\u001b[0m\u001b[0;34m)\u001b[0m\u001b[0;34m\u001b[0m\u001b[0;34m\u001b[0m\u001b[0m\n\u001b[1;32m     24\u001b[0m     \u001b[0mdf_new\u001b[0m \u001b[0;34m=\u001b[0m \u001b[0mpd\u001b[0m\u001b[0;34m.\u001b[0m\u001b[0mDataFrame\u001b[0m\u001b[0;34m(\u001b[0m\u001b[0mcolumns\u001b[0m\u001b[0;34m=\u001b[0m\u001b[0mrange\u001b[0m\u001b[0;34m(\u001b[0m\u001b[0;36m1\u001b[0m\u001b[0;34m)\u001b[0m\u001b[0;34m)\u001b[0m\u001b[0;34m\u001b[0m\u001b[0;34m\u001b[0m\u001b[0m\n\u001b[0;32m---> 25\u001b[0;31m     \u001b[0mdf_new\u001b[0m\u001b[0;34m.\u001b[0m\u001b[0mloc\u001b[0m\u001b[0;34m[\u001b[0m\u001b[0mi\u001b[0m\u001b[0;34m]\u001b[0m\u001b[0;34m=\u001b[0m\u001b[0;34m[\u001b[0m\u001b[0mi\u001b[0m\u001b[0;34m.\u001b[0m\u001b[0mstring\u001b[0m\u001b[0;34m]\u001b[0m\u001b[0;34m\u001b[0m\u001b[0;34m\u001b[0m\u001b[0m\n\u001b[0m\u001b[1;32m     26\u001b[0m     \u001b[0mdf\u001b[0m \u001b[0;34m=\u001b[0m \u001b[0mdf\u001b[0m\u001b[0;34m.\u001b[0m\u001b[0mappend\u001b[0m\u001b[0;34m(\u001b[0m\u001b[0mdf_new\u001b[0m\u001b[0;34m)\u001b[0m\u001b[0;34m\u001b[0m\u001b[0;34m\u001b[0m\u001b[0m\n\u001b[1;32m     27\u001b[0m \u001b[0mprint\u001b[0m\u001b[0;34m(\u001b[0m\u001b[0mdf\u001b[0m\u001b[0;34m)\u001b[0m\u001b[0;34m\u001b[0m\u001b[0;34m\u001b[0m\u001b[0m\n",
      "\u001b[0;32m~/Anaconda/anaconda3/lib/python3.8/site-packages/pandas/core/indexing.py\u001b[0m in \u001b[0;36m__setitem__\u001b[0;34m(self, key, value)\u001b[0m\n\u001b[1;32m    690\u001b[0m \u001b[0;34m\u001b[0m\u001b[0m\n\u001b[1;32m    691\u001b[0m         \u001b[0miloc\u001b[0m \u001b[0;34m=\u001b[0m \u001b[0mself\u001b[0m \u001b[0;32mif\u001b[0m \u001b[0mself\u001b[0m\u001b[0;34m.\u001b[0m\u001b[0mname\u001b[0m \u001b[0;34m==\u001b[0m \u001b[0;34m\"iloc\"\u001b[0m \u001b[0;32melse\u001b[0m \u001b[0mself\u001b[0m\u001b[0;34m.\u001b[0m\u001b[0mobj\u001b[0m\u001b[0;34m.\u001b[0m\u001b[0miloc\u001b[0m\u001b[0;34m\u001b[0m\u001b[0;34m\u001b[0m\u001b[0m\n\u001b[0;32m--> 692\u001b[0;31m         \u001b[0miloc\u001b[0m\u001b[0;34m.\u001b[0m\u001b[0m_setitem_with_indexer\u001b[0m\u001b[0;34m(\u001b[0m\u001b[0mindexer\u001b[0m\u001b[0;34m,\u001b[0m \u001b[0mvalue\u001b[0m\u001b[0;34m,\u001b[0m \u001b[0mself\u001b[0m\u001b[0;34m.\u001b[0m\u001b[0mname\u001b[0m\u001b[0;34m)\u001b[0m\u001b[0;34m\u001b[0m\u001b[0;34m\u001b[0m\u001b[0m\n\u001b[0m\u001b[1;32m    693\u001b[0m \u001b[0;34m\u001b[0m\u001b[0m\n\u001b[1;32m    694\u001b[0m     \u001b[0;32mdef\u001b[0m \u001b[0m_validate_key\u001b[0m\u001b[0;34m(\u001b[0m\u001b[0mself\u001b[0m\u001b[0;34m,\u001b[0m \u001b[0mkey\u001b[0m\u001b[0;34m,\u001b[0m \u001b[0maxis\u001b[0m\u001b[0;34m:\u001b[0m \u001b[0mint\u001b[0m\u001b[0;34m)\u001b[0m\u001b[0;34m:\u001b[0m\u001b[0;34m\u001b[0m\u001b[0;34m\u001b[0m\u001b[0m\n",
      "\u001b[0;32m~/Anaconda/anaconda3/lib/python3.8/site-packages/pandas/core/indexing.py\u001b[0m in \u001b[0;36m_setitem_with_indexer\u001b[0;34m(self, indexer, value, name)\u001b[0m\n\u001b[1;32m   1635\u001b[0m             \u001b[0mself\u001b[0m\u001b[0;34m.\u001b[0m\u001b[0m_setitem_with_indexer_split_path\u001b[0m\u001b[0;34m(\u001b[0m\u001b[0mindexer\u001b[0m\u001b[0;34m,\u001b[0m \u001b[0mvalue\u001b[0m\u001b[0;34m,\u001b[0m \u001b[0mname\u001b[0m\u001b[0;34m)\u001b[0m\u001b[0;34m\u001b[0m\u001b[0;34m\u001b[0m\u001b[0m\n\u001b[1;32m   1636\u001b[0m         \u001b[0;32melse\u001b[0m\u001b[0;34m:\u001b[0m\u001b[0;34m\u001b[0m\u001b[0;34m\u001b[0m\u001b[0m\n\u001b[0;32m-> 1637\u001b[0;31m             \u001b[0mself\u001b[0m\u001b[0;34m.\u001b[0m\u001b[0m_setitem_single_block\u001b[0m\u001b[0;34m(\u001b[0m\u001b[0mindexer\u001b[0m\u001b[0;34m,\u001b[0m \u001b[0mvalue\u001b[0m\u001b[0;34m,\u001b[0m \u001b[0mname\u001b[0m\u001b[0;34m)\u001b[0m\u001b[0;34m\u001b[0m\u001b[0;34m\u001b[0m\u001b[0m\n\u001b[0m\u001b[1;32m   1638\u001b[0m \u001b[0;34m\u001b[0m\u001b[0m\n\u001b[1;32m   1639\u001b[0m     \u001b[0;32mdef\u001b[0m \u001b[0m_setitem_with_indexer_split_path\u001b[0m\u001b[0;34m(\u001b[0m\u001b[0mself\u001b[0m\u001b[0;34m,\u001b[0m \u001b[0mindexer\u001b[0m\u001b[0;34m,\u001b[0m \u001b[0mvalue\u001b[0m\u001b[0;34m,\u001b[0m \u001b[0mname\u001b[0m\u001b[0;34m:\u001b[0m \u001b[0mstr\u001b[0m\u001b[0;34m)\u001b[0m\u001b[0;34m:\u001b[0m\u001b[0;34m\u001b[0m\u001b[0;34m\u001b[0m\u001b[0m\n",
      "\u001b[0;32m~/Anaconda/anaconda3/lib/python3.8/site-packages/pandas/core/indexing.py\u001b[0m in \u001b[0;36m_setitem_single_block\u001b[0;34m(self, indexer, value, name)\u001b[0m\n\u001b[1;32m   1859\u001b[0m         \u001b[0;31m# actually do the set\u001b[0m\u001b[0;34m\u001b[0m\u001b[0;34m\u001b[0m\u001b[0;34m\u001b[0m\u001b[0m\n\u001b[1;32m   1860\u001b[0m         \u001b[0mself\u001b[0m\u001b[0;34m.\u001b[0m\u001b[0mobj\u001b[0m\u001b[0;34m.\u001b[0m\u001b[0m_consolidate_inplace\u001b[0m\u001b[0;34m(\u001b[0m\u001b[0;34m)\u001b[0m\u001b[0;34m\u001b[0m\u001b[0;34m\u001b[0m\u001b[0m\n\u001b[0;32m-> 1861\u001b[0;31m         \u001b[0mself\u001b[0m\u001b[0;34m.\u001b[0m\u001b[0mobj\u001b[0m\u001b[0;34m.\u001b[0m\u001b[0m_mgr\u001b[0m \u001b[0;34m=\u001b[0m \u001b[0mself\u001b[0m\u001b[0;34m.\u001b[0m\u001b[0mobj\u001b[0m\u001b[0;34m.\u001b[0m\u001b[0m_mgr\u001b[0m\u001b[0;34m.\u001b[0m\u001b[0msetitem\u001b[0m\u001b[0;34m(\u001b[0m\u001b[0mindexer\u001b[0m\u001b[0;34m=\u001b[0m\u001b[0mindexer\u001b[0m\u001b[0;34m,\u001b[0m \u001b[0mvalue\u001b[0m\u001b[0;34m=\u001b[0m\u001b[0mvalue\u001b[0m\u001b[0;34m)\u001b[0m\u001b[0;34m\u001b[0m\u001b[0;34m\u001b[0m\u001b[0m\n\u001b[0m\u001b[1;32m   1862\u001b[0m         \u001b[0mself\u001b[0m\u001b[0;34m.\u001b[0m\u001b[0mobj\u001b[0m\u001b[0;34m.\u001b[0m\u001b[0m_maybe_update_cacher\u001b[0m\u001b[0;34m(\u001b[0m\u001b[0mclear\u001b[0m\u001b[0;34m=\u001b[0m\u001b[0;32mTrue\u001b[0m\u001b[0;34m)\u001b[0m\u001b[0;34m\u001b[0m\u001b[0;34m\u001b[0m\u001b[0m\n\u001b[1;32m   1863\u001b[0m \u001b[0;34m\u001b[0m\u001b[0m\n",
      "\u001b[0;32m~/Anaconda/anaconda3/lib/python3.8/site-packages/pandas/core/internals/managers.py\u001b[0m in \u001b[0;36msetitem\u001b[0;34m(self, indexer, value)\u001b[0m\n\u001b[1;32m    566\u001b[0m \u001b[0;34m\u001b[0m\u001b[0m\n\u001b[1;32m    567\u001b[0m     \u001b[0;32mdef\u001b[0m \u001b[0msetitem\u001b[0m\u001b[0;34m(\u001b[0m\u001b[0mself\u001b[0m\u001b[0;34m,\u001b[0m \u001b[0mindexer\u001b[0m\u001b[0;34m,\u001b[0m \u001b[0mvalue\u001b[0m\u001b[0;34m)\u001b[0m \u001b[0;34m->\u001b[0m \u001b[0;34m\"BlockManager\"\u001b[0m\u001b[0;34m:\u001b[0m\u001b[0;34m\u001b[0m\u001b[0;34m\u001b[0m\u001b[0m\n\u001b[0;32m--> 568\u001b[0;31m         \u001b[0;32mreturn\u001b[0m \u001b[0mself\u001b[0m\u001b[0;34m.\u001b[0m\u001b[0mapply\u001b[0m\u001b[0;34m(\u001b[0m\u001b[0;34m\"setitem\"\u001b[0m\u001b[0;34m,\u001b[0m \u001b[0mindexer\u001b[0m\u001b[0;34m=\u001b[0m\u001b[0mindexer\u001b[0m\u001b[0;34m,\u001b[0m \u001b[0mvalue\u001b[0m\u001b[0;34m=\u001b[0m\u001b[0mvalue\u001b[0m\u001b[0;34m)\u001b[0m\u001b[0;34m\u001b[0m\u001b[0;34m\u001b[0m\u001b[0m\n\u001b[0m\u001b[1;32m    569\u001b[0m \u001b[0;34m\u001b[0m\u001b[0m\n\u001b[1;32m    570\u001b[0m     \u001b[0;32mdef\u001b[0m \u001b[0mputmask\u001b[0m\u001b[0;34m(\u001b[0m\u001b[0mself\u001b[0m\u001b[0;34m,\u001b[0m \u001b[0mmask\u001b[0m\u001b[0;34m,\u001b[0m \u001b[0mnew\u001b[0m\u001b[0;34m,\u001b[0m \u001b[0malign\u001b[0m\u001b[0;34m:\u001b[0m \u001b[0mbool\u001b[0m \u001b[0;34m=\u001b[0m \u001b[0;32mTrue\u001b[0m\u001b[0;34m,\u001b[0m \u001b[0maxis\u001b[0m\u001b[0;34m:\u001b[0m \u001b[0mint\u001b[0m \u001b[0;34m=\u001b[0m \u001b[0;36m0\u001b[0m\u001b[0;34m)\u001b[0m\u001b[0;34m:\u001b[0m\u001b[0;34m\u001b[0m\u001b[0;34m\u001b[0m\u001b[0m\n",
      "\u001b[0;32m~/Anaconda/anaconda3/lib/python3.8/site-packages/pandas/core/internals/managers.py\u001b[0m in \u001b[0;36mapply\u001b[0;34m(self, f, align_keys, ignore_failures, **kwargs)\u001b[0m\n\u001b[1;32m    425\u001b[0m                     \u001b[0mapplied\u001b[0m \u001b[0;34m=\u001b[0m \u001b[0mb\u001b[0m\u001b[0;34m.\u001b[0m\u001b[0mapply\u001b[0m\u001b[0;34m(\u001b[0m\u001b[0mf\u001b[0m\u001b[0;34m,\u001b[0m \u001b[0;34m**\u001b[0m\u001b[0mkwargs\u001b[0m\u001b[0;34m)\u001b[0m\u001b[0;34m\u001b[0m\u001b[0;34m\u001b[0m\u001b[0m\n\u001b[1;32m    426\u001b[0m                 \u001b[0;32melse\u001b[0m\u001b[0;34m:\u001b[0m\u001b[0;34m\u001b[0m\u001b[0;34m\u001b[0m\u001b[0m\n\u001b[0;32m--> 427\u001b[0;31m                     \u001b[0mapplied\u001b[0m \u001b[0;34m=\u001b[0m \u001b[0mgetattr\u001b[0m\u001b[0;34m(\u001b[0m\u001b[0mb\u001b[0m\u001b[0;34m,\u001b[0m \u001b[0mf\u001b[0m\u001b[0;34m)\u001b[0m\u001b[0;34m(\u001b[0m\u001b[0;34m**\u001b[0m\u001b[0mkwargs\u001b[0m\u001b[0;34m)\u001b[0m\u001b[0;34m\u001b[0m\u001b[0;34m\u001b[0m\u001b[0m\n\u001b[0m\u001b[1;32m    428\u001b[0m             \u001b[0;32mexcept\u001b[0m \u001b[0;34m(\u001b[0m\u001b[0mTypeError\u001b[0m\u001b[0;34m,\u001b[0m \u001b[0mNotImplementedError\u001b[0m\u001b[0;34m)\u001b[0m\u001b[0;34m:\u001b[0m\u001b[0;34m\u001b[0m\u001b[0;34m\u001b[0m\u001b[0m\n\u001b[1;32m    429\u001b[0m                 \u001b[0;32mif\u001b[0m \u001b[0;32mnot\u001b[0m \u001b[0mignore_failures\u001b[0m\u001b[0;34m:\u001b[0m\u001b[0;34m\u001b[0m\u001b[0;34m\u001b[0m\u001b[0m\n",
      "\u001b[0;32m~/Anaconda/anaconda3/lib/python3.8/site-packages/pandas/core/internals/blocks.py\u001b[0m in \u001b[0;36msetitem\u001b[0;34m(self, indexer, value)\u001b[0m\n\u001b[1;32m    997\u001b[0m \u001b[0;34m\u001b[0m\u001b[0m\n\u001b[1;32m    998\u001b[0m         \u001b[0;31m# length checking\u001b[0m\u001b[0;34m\u001b[0m\u001b[0;34m\u001b[0m\u001b[0;34m\u001b[0m\u001b[0m\n\u001b[0;32m--> 999\u001b[0;31m         \u001b[0mcheck_setitem_lengths\u001b[0m\u001b[0;34m(\u001b[0m\u001b[0mindexer\u001b[0m\u001b[0;34m,\u001b[0m \u001b[0mvalue\u001b[0m\u001b[0;34m,\u001b[0m \u001b[0mvalues\u001b[0m\u001b[0;34m)\u001b[0m\u001b[0;34m\u001b[0m\u001b[0;34m\u001b[0m\u001b[0m\n\u001b[0m\u001b[1;32m   1000\u001b[0m         exact_match = (\n\u001b[1;32m   1001\u001b[0m             \u001b[0mlen\u001b[0m\u001b[0;34m(\u001b[0m\u001b[0marr_value\u001b[0m\u001b[0;34m.\u001b[0m\u001b[0mshape\u001b[0m\u001b[0;34m)\u001b[0m\u001b[0;34m\u001b[0m\u001b[0;34m\u001b[0m\u001b[0m\n",
      "\u001b[0;32m~/Anaconda/anaconda3/lib/python3.8/site-packages/pandas/core/indexers.py\u001b[0m in \u001b[0;36mcheck_setitem_lengths\u001b[0;34m(indexer, value, values)\u001b[0m\n\u001b[1;32m    159\u001b[0m                     \u001b[0;32mand\u001b[0m \u001b[0mlen\u001b[0m\u001b[0;34m(\u001b[0m\u001b[0mindexer\u001b[0m\u001b[0;34m[\u001b[0m\u001b[0mindexer\u001b[0m\u001b[0;34m]\u001b[0m\u001b[0;34m)\u001b[0m \u001b[0;34m==\u001b[0m \u001b[0mlen\u001b[0m\u001b[0;34m(\u001b[0m\u001b[0mvalue\u001b[0m\u001b[0;34m)\u001b[0m\u001b[0;34m\u001b[0m\u001b[0;34m\u001b[0m\u001b[0m\n\u001b[1;32m    160\u001b[0m                 ):\n\u001b[0;32m--> 161\u001b[0;31m                     raise ValueError(\n\u001b[0m\u001b[1;32m    162\u001b[0m                         \u001b[0;34m\"cannot set using a list-like indexer \"\u001b[0m\u001b[0;34m\u001b[0m\u001b[0;34m\u001b[0m\u001b[0m\n\u001b[1;32m    163\u001b[0m                         \u001b[0;34m\"with a different length than the value\"\u001b[0m\u001b[0;34m\u001b[0m\u001b[0;34m\u001b[0m\u001b[0m\n",
      "\u001b[0;31mValueError\u001b[0m: cannot set using a list-like indexer with a different length than the value"
     ]
    }
   ],
   "source": [
    "\n",
    "# Setting\n",
    "from bs4 import BeautifulSoup\n",
    "import urllib.request as request\n",
    "import pandas as pd\n",
    "# List로 DataFrame 만들기\n",
    "# df = pd.DataFrame([\n",
    "#     [10, 20, 30],\n",
    "#     [40, 50, 60],\n",
    "#     [70, 80, 90]\n",
    "# ])\n",
    "# df\n",
    "\n",
    "\n",
    "url = \"https://movie.daum.net/ranking/boxoffice/yearly\"\n",
    "res = request.urlopen(url)\n",
    "\n",
    "soup = BeautifulSoup(res, \"html.parser\")\n",
    "\n",
    "title = soup.select(\"div.box_boxoffice > ol > li > div > div.thumb_cont > strong > a\")\n",
    "df = pd.DataFrame(columns=range(1))\n",
    "print(df)\n",
    "for i in title:\n",
    "    print(i.string)\n",
    "    df_new = pd.DataFrame(columns=range(1))\n",
    "    df_new.loc[i]=[i.string]\n",
    "    df = df.append(df_new)\n",
    "print(df)"
   ]
  },
  {
   "cell_type": "markdown",
   "id": "8d6154a4",
   "metadata": {},
   "source": [
    "# 다음 IT News 많이 본 뉴스"
   ]
  },
  {
   "cell_type": "code",
   "execution_count": 96,
   "id": "ba8bb32f",
   "metadata": {},
   "outputs": [],
   "source": [
    "#mAside > div.aside_g.aside_ranking > ul > li.on > div > ol:nth-child(2) > li:nth-child(1) > strong > a\n",
    "# https://news.daum.net/digital#1\n",
    "#mAside > div.aside_g.aside_ranking > ul > li.on > div > ol:nth-child(3) > li:nth-child(1) > strong > a\n"
   ]
  },
  {
   "cell_type": "code",
   "execution_count": 118,
   "id": "c199b2a7",
   "metadata": {},
   "outputs": [
    {
     "name": "stdout",
     "output_type": "stream",
     "text": [
      "https://v.daum.net/v/20210713140143407 : 이재명, 긴급 기자회견..\"4차 팬데믹 못막으면 전면봉쇄 불가피\"\n",
      "https://v.daum.net/v/20210713144711324 : \"일출 보려다 물어뜯길 뻔\"..성산일출봉까지 점령한 야생들개\n",
      "https://v.daum.net/v/20210713132549158 : BJ철구, 7살딸과 '여캠BJ 새엄마 월드컵'..아동학대 논란\n",
      "https://v.daum.net/v/20210713124446148 : \"누나가 무슨 부모야\" 친누나 30차례 찔러 살해한 남동생.. 무기징역 구형\n",
      "https://v.daum.net/v/20210713144622300 : \"확진자인데 와서 미안\" 농담에 카페 영업중단..업무방해 무죄\n",
      "https://v.daum.net/v/20210713133842565 : 정은경 '靑 방역기획관에 밀렸나' 질문에 \"소신껏 하고 있다\" 일축\n",
      "https://v.daum.net/v/20210713114057051 : \"술집 못가니 호텔 가자\" 60대 유명화가, 20대 성폭행 의혹\n",
      "https://v.daum.net/v/20210713113441712 : 우리은행 본점서 코로나19 집단감염..\"발설 시 엄벌\"\n",
      "https://v.daum.net/v/20210713113230612 : 홍남기, 전국민 지원금 합의에 \"동의 안한다\"..여당과 충돌\n",
      "https://v.daum.net/v/20210713143600846 : 청와대 앞에 착륙한 미끼 전투기, 힘을 보여주고 싶었다\n",
      "https://v.daum.net/v/20210713144944406 : 중등교원 양성 규모 축소..사범대 나와야 국영수 교사된다\n",
      "https://v.daum.net/v/20210713120602280 : 습도 높으면 35도서도 치명타..습한 한국 여름 무서운 이유\n",
      "https://v.daum.net/v/20210713135902248 : \"이 시국에 떼창?\" 팬들 반발에..백기 든 '미스터트롯' 공연\n",
      "https://v.daum.net/v/20210713150601168 : \"철학 붕괴\" 윤희숙 연일 이준석 비판..하태경 \"자해정치\"\n",
      "https://v.daum.net/v/20210713133106300 : '천조국 최종병기' 대륙간탄도미사일 미니트맨 Ⅲ\n",
      "https://v.daum.net/v/20210713115724852 : \"한국인 DNA에 표현력 없다\" 바이올린 거장 주커만 인종차별\n",
      "https://v.daum.net/v/20210713115624812 : 무려 60년간 조용하던 쿠바인들은 왜 들고 일어났나\n",
      "https://v.daum.net/v/20210713131902974 : \"돼지코 같다\" 싸늘한 반응..BMW 4시리즈 참혹한 결과\n",
      "https://v.daum.net/v/20210713125407426 : 짧고 굵은 장마 19일까지..20일부터 강한 폭염 온다\n",
      "https://v.daum.net/v/20210713133325380 : 예고 없이 잡힌 미스터트롯 전주 콘서트, 잇단 항의에 취소\n",
      "https://v.daum.net/v/20210713111827741 : \"살려주세요\" 외침에 바로 '풍덩'..초등생 3명 잇따라 구한 40대\n",
      "https://v.daum.net/v/20210713142508329 : 부산도 위태롭다..유흥시설 넘어 식당·학교 등 전방위 확산\n",
      "https://v.daum.net/v/20210713131915980 : \"4000모 이식한거 맞아?\"..모발 이식 사진은 의료기록인가, 아닌가\n",
      "https://v.daum.net/v/20210713141248818 : \"제가 가르쳤고 믿고 있는..\" 조국, 아내 정경심 징역 7년 구형에 '무죄 추정' 대법 판결 공유\n",
      "https://v.daum.net/v/20210713115700827 : \"내년 하반기 미 금융시장 대폭락 온다\"\n",
      "https://v.daum.net/v/20210713140846683 : 중·고교 교사 양성 규모 축소한다..사범대 안나오면 국영수 교사 되기 어려워\n",
      "https://v.daum.net/v/20210713151947679 : 전여옥, 위기의 이준석에 \"뒤에서 칼꽂는 게 정치..성인식 치러\"\n",
      "https://v.daum.net/v/20210713140105375 : 연인 관계 2/3, 친구서 발전\n",
      "https://v.daum.net/v/20210713132558167 : 정은경, 55~59세 예약 중단에 \"안내 못드려 송구..충분히 접종 가능\"\n",
      "https://v.daum.net/v/20210713122837887 : 이준석 \"宋과의 고민, 대변인들 거치며 전달안된듯\"\n"
     ]
    }
   ],
   "source": [
    "# Setting\n",
    "from bs4 import BeautifulSoup\n",
    "import urllib.request as request\n",
    "\n",
    "url = \"https://news.daum.net/digital#1\"\n",
    "res = request.urlopen(url)\n",
    "\n",
    "# HTML 분석\n",
    "soup = BeautifulSoup(res, \"html.parser\")\n",
    "\n",
    "# Data\n",
    "rankings = soup.select('div.aside_g.aside_ranking > ul > li.on > div > ol > li > strong > a')\n",
    "links = soup.find_all('div.aside_g.aside_ranking > ul > li.on > div > ol > li > strong > a')\n",
    "for rank in rankings:\n",
    "    print(rank.attrs['href'],':',rank.string.strip())"
   ]
  },
  {
   "cell_type": "code",
   "execution_count": null,
   "id": "17d7e2a8",
   "metadata": {},
   "outputs": [],
   "source": []
  },
  {
   "cell_type": "code",
   "execution_count": null,
   "id": "ae333257",
   "metadata": {},
   "outputs": [],
   "source": []
  },
  {
   "cell_type": "code",
   "execution_count": null,
   "id": "c1a450e2",
   "metadata": {},
   "outputs": [],
   "source": []
  },
  {
   "cell_type": "code",
   "execution_count": null,
   "id": "65938113",
   "metadata": {},
   "outputs": [],
   "source": []
  },
  {
   "cell_type": "code",
   "execution_count": null,
   "id": "1a448eca",
   "metadata": {},
   "outputs": [],
   "source": []
  }
 ],
 "metadata": {
  "kernelspec": {
   "display_name": "Python 3",
   "language": "python",
   "name": "python3"
  },
  "language_info": {
   "codemirror_mode": {
    "name": "ipython",
    "version": 3
   },
   "file_extension": ".py",
   "mimetype": "text/x-python",
   "name": "python",
   "nbconvert_exporter": "python",
   "pygments_lexer": "ipython3",
   "version": "3.8.8"
  }
 },
 "nbformat": 4,
 "nbformat_minor": 5
}
