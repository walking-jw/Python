{
 "cells": [
  {
   "cell_type": "markdown",
   "id": "1dd455c2",
   "metadata": {},
   "source": [
    "# 튜플(Tuple) 자료형\n",
    ": 변수 하나를 가지고 여러가지로 쓰는 것을 의미한다.   \n",
    ": Tuple은 다음과 같은 점을 제외하고 리스트와 거의 비슷하다.   \n",
    "- (,)로 사용\n",
    "- 리스트는 그 값을 생성, 삭제, 수정이 가능하지만 튜플은 값을 바꿀 수 없다. 변경이 불가능하다.   \n",
    "- 보통 사용할때는 한번 입력하고 수정할 일이 없으면 tuple이 작업 속도가 더 빠르다   "
   ]
  },
  {
   "cell_type": "code",
   "execution_count": 7,
   "id": "194ecd17",
   "metadata": {},
   "outputs": [
    {
     "name": "stdout",
     "output_type": "stream",
     "text": [
      "()\n",
      "1\n",
      "(1, 2, 3)\n",
      "(1, 2, 3)\n",
      "('a', 'b', ('ad', 'cbc'))\n",
      "('ad', 'cbc')\n"
     ]
    }
   ],
   "source": [
    "# 튜플의 선언\n",
    "var01 = ()\n",
    "var02 = (1)\n",
    "var03 = (1,2,3)\n",
    "var04 = 1,2,3\n",
    "var05 = ('a', 'b', ('ad', 'cbc'))\n",
    "print(var01)\n",
    "print(var02)\n",
    "print(var03)\n",
    "print(var04)\n",
    "print(var05)\n",
    "print(var05[2])"
   ]
  },
  {
   "cell_type": "code",
   "execution_count": 8,
   "id": "eb21ad1d",
   "metadata": {},
   "outputs": [
    {
     "name": "stdout",
     "output_type": "stream",
     "text": [
      "1\n"
     ]
    }
   ],
   "source": [
    "# 가장 많이 쓰는 방법\n",
    "a, b, c = (1,2,3)\n",
    "print(a)\n",
    "\n",
    "# 이건 return 값들을 한번에 주고싶을때 이거로 준다! (최대값 최소값 평균 이런거 한번에 쓸떄)\n",
    "# 데이터 분석할때는 잘 사용하지 않고 함수 만들때 많이 사용한다. "
   ]
  },
  {
   "cell_type": "code",
   "execution_count": null,
   "id": "23893234",
   "metadata": {},
   "outputs": [],
   "source": []
  }
 ],
 "metadata": {
  "kernelspec": {
   "display_name": "Python 3",
   "language": "python",
   "name": "python3"
  },
  "language_info": {
   "codemirror_mode": {
    "name": "ipython",
    "version": 3
   },
   "file_extension": ".py",
   "mimetype": "text/x-python",
   "name": "python",
   "nbconvert_exporter": "python",
   "pygments_lexer": "ipython3",
   "version": "3.8.8"
  }
 },
 "nbformat": 4,
 "nbformat_minor": 5
}
