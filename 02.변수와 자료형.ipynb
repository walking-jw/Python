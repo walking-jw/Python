{
 "cells": [
  {
   "cell_type": "markdown",
   "id": "fd9966b7",
   "metadata": {},
   "source": [
    "# --- 변수와 자료형 --- \n",
    "## 변수\n",
    "계산에 필요한 자료를 일시적으로 저장하거나 처리결과를 담을 수 있는 기억장소를 지정해 주는 역할.   \n",
    "변수 이름은 값을 지정하는 영역의 이름으로 할당된다.\n",
    "## 변수 이름의 작성 규칙\n",
    "- 첫자는 영문으로 시작한다.\n",
    "- 첫자를 제외하고 숫자, under_bar, dot을 사용할 수 있다.\n",
    "- 대문자와 소문자를 구분한다.\n",
    "- 변수 이름은 의미를 파악할 수 있는 이름으로 지정하는 것이 좋다.\n",
    "- 두 단어를 포함한 변수 이름을 지정할 경우 두번째 단어의 첫자는 대문자로 표시(camel method) 하거나 underbar(snake method)로 표시하는 것이 가독성이 좋다."
   ]
  },
  {
   "cell_type": "markdown",
   "id": "7a24e7d0",
   "metadata": {},
   "source": [
    "# 자료형\n",
    "## 숫자 자료형"
   ]
  },
  {
   "cell_type": "code",
   "execution_count": 2,
   "id": "dc01edcf",
   "metadata": {},
   "outputs": [
    {
     "data": {
      "text/plain": [
       "0"
      ]
     },
     "execution_count": 2,
     "metadata": {},
     "output_type": "execute_result"
    }
   ],
   "source": [
    "# 정수형\n",
    "var01 = 123\n",
    "var01 = -17\n",
    "var01 = 0\n",
    "\n",
    "# print 안쓰고 출력해주는건 jupiter 에서 해주는 것이다.\n",
    "var01"
   ]
  },
  {
   "cell_type": "code",
   "execution_count": 3,
   "id": "1a8e989b",
   "metadata": {},
   "outputs": [
    {
     "data": {
      "text/plain": [
       "-12.23"
      ]
     },
     "execution_count": 3,
     "metadata": {},
     "output_type": "execute_result"
    }
   ],
   "source": [
    "# 실수형\n",
    "var02 = 1.2\n",
    "var02 = -12.23\n",
    "\n",
    "var02"
   ]
  },
  {
   "cell_type": "code",
   "execution_count": 5,
   "id": "f72a622e",
   "metadata": {},
   "outputs": [
    {
     "name": "stdout",
     "output_type": "stream",
     "text": [
      "덧셈 : 7\n",
      "뺄셈 : -1\n",
      "곱셈 : 12\n",
      "실수 나눗셈 : 0.75\n",
      "정수 나눗셈 몫 : 0\n",
      "정수 나눗셈 나머지 : 3\n",
      "제곱 : 9\n",
      "제곱 : 9\n"
     ]
    }
   ],
   "source": [
    "# 연산자\n",
    "\n",
    "var01 = 3\n",
    "var02 = 4\n",
    "print('덧셈 :', var01 + var02)\n",
    "print('뺄셈 :', var01 - var02)\n",
    "print('곱셈 :', var01 * var02)\n",
    "print('실수 나눗셈 :', var01 / var02)\n",
    "print('정수 나눗셈 몫 :', var01 // var02)\n",
    "print('정수 나눗셈 나머지 :', var01 % var02)\n",
    "print('제곱 :', var01 ** 2 )\n",
    "print('제곱 :', pow(var01, 2))"
   ]
  },
  {
   "cell_type": "markdown",
   "id": "2e10a914",
   "metadata": {},
   "source": [
    "## 파이썬 모듈을 이용한 수학계산 (import 라고 생각하면 좋다.)\n",
    "\n"
   ]
  },
  {
   "cell_type": "code",
   "execution_count": 7,
   "id": "b296fdc0",
   "metadata": {},
   "outputs": [],
   "source": [
    "# 수학계산 모듈 불러오기\n",
    "import math"
   ]
  },
  {
   "cell_type": "code",
   "execution_count": 9,
   "id": "95ae3ae0",
   "metadata": {},
   "outputs": [
    {
     "data": {
      "text/plain": [
       "9.0"
      ]
     },
     "execution_count": 9,
     "metadata": {},
     "output_type": "execute_result"
    }
   ],
   "source": [
    "# 거듭제곱\n",
    "math.pow(var01, 2)"
   ]
  },
  {
   "cell_type": "code",
   "execution_count": 10,
   "id": "7423e2f4",
   "metadata": {},
   "outputs": [
    {
     "data": {
      "text/plain": [
       "1.7320508075688772"
      ]
     },
     "execution_count": 10,
     "metadata": {},
     "output_type": "execute_result"
    }
   ],
   "source": [
    "# 제곱근 (루트)\n",
    "math.sqrt(var01)"
   ]
  },
  {
   "cell_type": "code",
   "execution_count": 11,
   "id": "66db37b2",
   "metadata": {},
   "outputs": [
    {
     "data": {
      "text/plain": [
       "0.8509035245341184"
      ]
     },
     "execution_count": 11,
     "metadata": {},
     "output_type": "execute_result"
    }
   ],
   "source": [
    "# sin(45)\n",
    "math.sin(45)"
   ]
  },
  {
   "cell_type": "code",
   "execution_count": 12,
   "id": "9f666dde",
   "metadata": {},
   "outputs": [
    {
     "data": {
      "text/plain": [
       "1.0"
      ]
     },
     "execution_count": 12,
     "metadata": {},
     "output_type": "execute_result"
    }
   ],
   "source": [
    "math.pow(math.sin(45), 2) + math.pow(math.cos(45), 2)"
   ]
  },
  {
   "cell_type": "markdown",
   "id": "31c13506",
   "metadata": {},
   "source": [
    "# 난수 발생"
   ]
  },
  {
   "cell_type": "code",
   "execution_count": 14,
   "id": "74a0615f",
   "metadata": {},
   "outputs": [],
   "source": [
    "import random"
   ]
  },
  {
   "cell_type": "code",
   "execution_count": 17,
   "id": "4a15a95a",
   "metadata": {},
   "outputs": [
    {
     "data": {
      "text/plain": [
       "52"
      ]
     },
     "execution_count": 17,
     "metadata": {},
     "output_type": "execute_result"
    }
   ],
   "source": [
    "random.randint(1, 100)"
   ]
  },
  {
   "cell_type": "code",
   "execution_count": 18,
   "id": "9e01d573",
   "metadata": {},
   "outputs": [
    {
     "data": {
      "text/plain": [
       "[3, 5, 4]"
      ]
     },
     "execution_count": 18,
     "metadata": {},
     "output_type": "execute_result"
    }
   ],
   "source": [
    "rlist = [1,2,3,4,5]\n",
    "random.sample(rlist, 3)"
   ]
  },
  {
   "cell_type": "code",
   "execution_count": 19,
   "id": "07a3ab66",
   "metadata": {
    "scrolled": false
   },
   "outputs": [
    {
     "data": {
      "text/plain": [
       "range(1, 100)"
      ]
     },
     "execution_count": 19,
     "metadata": {},
     "output_type": "execute_result"
    }
   ],
   "source": [
    "# range(여기부터, 여기 바로 전까지)\n",
    "alist = range(1, 100)\n",
    "alist\n",
    "for i in alist:\n",
    "    print(i)"
   ]
  },
  {
   "cell_type": "code",
   "execution_count": 21,
   "id": "f76c824a",
   "metadata": {},
   "outputs": [],
   "source": [
    "# 로또 자동번호 생성기"
   ]
  },
  {
   "cell_type": "code",
   "execution_count": 20,
   "id": "6ec4682d",
   "metadata": {},
   "outputs": [
    {
     "data": {
      "text/plain": [
       "[15, 44, 45, 6, 28, 42]"
      ]
     },
     "execution_count": 20,
     "metadata": {},
     "output_type": "execute_result"
    }
   ],
   "source": [
    "lottoList = range(1, 46)\n",
    "random.sample(lottoList, 6)"
   ]
  },
  {
   "cell_type": "code",
   "execution_count": 22,
   "id": "6522686e",
   "metadata": {},
   "outputs": [],
   "source": [
    "# Kernel > restart and Run All"
   ]
  },
  {
   "cell_type": "code",
   "execution_count": 24,
   "id": "c8c1e214",
   "metadata": {
    "scrolled": true
   },
   "outputs": [
    {
     "data": {
      "text/plain": [
       "['In',\n",
       " 'Out',\n",
       " '_',\n",
       " '_1',\n",
       " '_10',\n",
       " '_11',\n",
       " '_12',\n",
       " '_15',\n",
       " '_16',\n",
       " '_17',\n",
       " '_18',\n",
       " '_19',\n",
       " '_2',\n",
       " '_20',\n",
       " '_3',\n",
       " '_9',\n",
       " '__',\n",
       " '___',\n",
       " '__builtin__',\n",
       " '__builtins__',\n",
       " '__doc__',\n",
       " '__loader__',\n",
       " '__name__',\n",
       " '__package__',\n",
       " '__spec__',\n",
       " '_dh',\n",
       " '_i',\n",
       " '_i1',\n",
       " '_i10',\n",
       " '_i11',\n",
       " '_i12',\n",
       " '_i13',\n",
       " '_i14',\n",
       " '_i15',\n",
       " '_i16',\n",
       " '_i17',\n",
       " '_i18',\n",
       " '_i19',\n",
       " '_i2',\n",
       " '_i20',\n",
       " '_i21',\n",
       " '_i22',\n",
       " '_i23',\n",
       " '_i24',\n",
       " '_i3',\n",
       " '_i4',\n",
       " '_i5',\n",
       " '_i6',\n",
       " '_i7',\n",
       " '_i8',\n",
       " '_i9',\n",
       " '_ih',\n",
       " '_ii',\n",
       " '_iii',\n",
       " '_oh',\n",
       " 'alist',\n",
       " 'exit',\n",
       " 'get_ipython',\n",
       " 'lottoList',\n",
       " 'math',\n",
       " 'quit',\n",
       " 'random',\n",
       " 'rlist',\n",
       " 'var01',\n",
       " 'var02']"
      ]
     },
     "execution_count": 24,
     "metadata": {},
     "output_type": "execute_result"
    }
   ],
   "source": [
    "# 메모리에 있는 변수 보기\n",
    "dir()"
   ]
  },
  {
   "cell_type": "code",
   "execution_count": 25,
   "id": "ccbf178d",
   "metadata": {},
   "outputs": [
    {
     "ename": "NameError",
     "evalue": "name 'var01' is not defined",
     "output_type": "error",
     "traceback": [
      "\u001b[0;31m---------------------------------------------------------------------------\u001b[0m",
      "\u001b[0;31mNameError\u001b[0m                                 Traceback (most recent call last)",
      "\u001b[0;32m<ipython-input-25-420553f71a41>\u001b[0m in \u001b[0;36m<module>\u001b[0;34m\u001b[0m\n\u001b[1;32m      1\u001b[0m \u001b[0;31m# 메모리에 있는 변수 지우기\u001b[0m\u001b[0;34m\u001b[0m\u001b[0;34m\u001b[0m\u001b[0;34m\u001b[0m\u001b[0m\n\u001b[1;32m      2\u001b[0m \u001b[0;32mdel\u001b[0m \u001b[0mvar01\u001b[0m\u001b[0;34m\u001b[0m\u001b[0;34m\u001b[0m\u001b[0m\n\u001b[0;32m----> 3\u001b[0;31m \u001b[0mvar01\u001b[0m\u001b[0;34m\u001b[0m\u001b[0;34m\u001b[0m\u001b[0m\n\u001b[0m",
      "\u001b[0;31mNameError\u001b[0m: name 'var01' is not defined"
     ]
    }
   ],
   "source": [
    "# 메모리에 있는 변수 지우기\n",
    "del var01\n",
    "var01"
   ]
  },
  {
   "cell_type": "markdown",
   "id": "3b3b3ebd",
   "metadata": {},
   "source": [
    "---"
   ]
  },
  {
   "cell_type": "markdown",
   "id": "12db726a",
   "metadata": {},
   "source": [
    "# 관계 연산자"
   ]
  },
  {
   "cell_type": "code",
   "execution_count": 26,
   "id": "0844bd63",
   "metadata": {},
   "outputs": [],
   "source": [
    "num1 = 100\n",
    "num2 = 20"
   ]
  },
  {
   "cell_type": "code",
   "execution_count": 27,
   "id": "658223ad",
   "metadata": {},
   "outputs": [
    {
     "name": "stdout",
     "output_type": "stream",
     "text": [
      "False\n",
      "True\n"
     ]
    }
   ],
   "source": [
    "# 동등비교\n",
    "print(num1 == num2)\n",
    "print(num1 != num2)"
   ]
  },
  {
   "cell_type": "code",
   "execution_count": 31,
   "id": "3057fbbb",
   "metadata": {},
   "outputs": [
    {
     "name": "stdout",
     "output_type": "stream",
     "text": [
      "True\n",
      "False\n",
      "True\n"
     ]
    }
   ],
   "source": [
    "# 크기비교 (이렇게 쓰면 맨 밑에거만 값을 알려주기때문에 같이 보고싶으면 print 쓰면 된다)\n",
    "num1 > num2\n",
    "num1 < num2\n",
    "\n",
    "print(num1 > num2)\n",
    "print(num1 < num2)\n",
    "print(num1 >= num2)"
   ]
  },
  {
   "cell_type": "markdown",
   "id": "26fa9a3c",
   "metadata": {},
   "source": [
    "# 논리연산자"
   ]
  },
  {
   "cell_type": "code",
   "execution_count": 33,
   "id": "9df47644",
   "metadata": {},
   "outputs": [
    {
     "name": "stdout",
     "output_type": "stream",
     "text": [
      "False\n",
      "True\n"
     ]
    }
   ],
   "source": [
    "# And, Or\n",
    "print ((num1>= 50) & (num2 <=10))\n",
    "print ((num1 >= 50) | (num2 <= 10))"
   ]
  },
  {
   "cell_type": "code",
   "execution_count": 35,
   "id": "3b8a954e",
   "metadata": {},
   "outputs": [
    {
     "data": {
      "text/plain": [
       "False"
      ]
     },
     "execution_count": 35,
     "metadata": {},
     "output_type": "execute_result"
    }
   ],
   "source": [
    "# 부정연산자\n",
    "num1 >= 50\n",
    "not(num1 >= 50)"
   ]
  },
  {
   "cell_type": "markdown",
   "id": "d3bd97e2",
   "metadata": {},
   "source": [
    "# 문자열 자료형"
   ]
  },
  {
   "cell_type": "code",
   "execution_count": 36,
   "id": "bb551672",
   "metadata": {},
   "outputs": [
    {
     "data": {
      "text/plain": [
       "'Hello World!'"
      ]
     },
     "execution_count": 36,
     "metadata": {},
     "output_type": "execute_result"
    }
   ],
   "source": [
    "var01 = \"Hello World!\"\n",
    "var01\n"
   ]
  },
  {
   "cell_type": "code",
   "execution_count": 37,
   "id": "8985a791",
   "metadata": {},
   "outputs": [
    {
     "name": "stdout",
     "output_type": "stream",
     "text": [
      "\n",
      "        Hello World!\n",
      "        I'm Fine!\n",
      "        Thank you\n",
      "\n"
     ]
    }
   ],
   "source": [
    "# 여러줄에 문자열 출력\n",
    "\n",
    "var01 = \"\"\"\n",
    "        Hello World!\n",
    "        I'm Fine!\n",
    "        Thank you\n",
    "\"\"\"\n",
    "print(var01)"
   ]
  },
  {
   "cell_type": "code",
   "execution_count": 40,
   "id": "d62e6c79",
   "metadata": {},
   "outputs": [
    {
     "name": "stdout",
     "output_type": "stream",
     "text": [
      "My father's wife is my mother.\n",
      "He says \"Hello!\"\n"
     ]
    }
   ],
   "source": [
    "# \"\"\" \"\"\"이건 <html> 로 되어있는 것을 변수로 쓸때 사용한다!\n",
    "\n",
    "# 쌍따옴표롸 홑따옴표의 사용 (쌍따옴표를 쓰고싶을때는 홑따옴표로 감싸고... )\n",
    "var01 = \"My father's wife is my mother.\"\n",
    "var02 = 'He says \"Hello!\"'\n",
    "print(var01)\n",
    "print(var02)"
   ]
  },
  {
   "cell_type": "code",
   "execution_count": 43,
   "id": "7d9385fb",
   "metadata": {},
   "outputs": [
    {
     "name": "stdout",
     "output_type": "stream",
     "text": [
      "aaa\n",
      "bbb\n",
      "aaa\tbbb\n"
     ]
    }
   ],
   "source": [
    "# 특수문자를 사용한 출력 (\\n 다음은 줄바꿈, \\t 는 탭띄우기)\n",
    "var03 = 'aaa\\nbbb'\n",
    "var04 = 'aaa\\tbbb'\n",
    "print(var03)\n",
    "print(var04)"
   ]
  },
  {
   "cell_type": "code",
   "execution_count": 1,
   "id": "49c63b40",
   "metadata": {},
   "outputs": [
    {
     "name": "stdout",
     "output_type": "stream",
     "text": [
      "Pythonis fun.\n",
      "Python is fun.\n"
     ]
    }
   ],
   "source": [
    "# 문자열 연산(덧셈)\n",
    "var01 = \"Python\"\n",
    "var02 = \"is fun.\"\n",
    "print(var01 + var02)\n",
    "print(var01, var02)\n",
    "\n",
    "# 두개는 띄어쓰기가 다르다!\n"
   ]
  },
  {
   "cell_type": "code",
   "execution_count": 2,
   "id": "243ce47c",
   "metadata": {},
   "outputs": [
    {
     "name": "stdout",
     "output_type": "stream",
     "text": [
      "PythonPythonPython\n"
     ]
    }
   ],
   "source": [
    "# 문자열 연산(곱셈)\n",
    "print(var01 * 3)"
   ]
  },
  {
   "cell_type": "code",
   "execution_count": 14,
   "id": "88a61bf1",
   "metadata": {},
   "outputs": [
    {
     "name": "stdout",
     "output_type": "stream",
     "text": [
      "a\n",
      "abc\n",
      "k\n",
      "fghijk\n",
      "abcde\n",
      "jk\n",
      "fghij\n"
     ]
    }
   ],
   "source": [
    "# 문자열 indexing 과 Slicing\n",
    "str = \"abcdefghijk\"\n",
    "\n",
    "# 맨 앞에 있는 문자만 쓰겠다!\n",
    "print(str[0])\n",
    "# print(str[0,1,2]) >> 오류!\n",
    "\n",
    "######## Slicing ########\n",
    "# 3번 자리 전까지 쭉 쓰겠다! Slicing\n",
    "print(str[0:3])\n",
    "\n",
    "# -1 은 맨 뒤에 것을 의미한다.\n",
    "print(str[-1])\n",
    "\n",
    "# 5번 자리부터 맨 마지막까지\n",
    "print(str[5:])\n",
    "\n",
    "# 앞에 5개만!\n",
    "print(str[:5])\n",
    "\n",
    "print(str[-2:])\n",
    "print(str[5:-1])"
   ]
  },
  {
   "cell_type": "code",
   "execution_count": 31,
   "id": "ff5dba0d",
   "metadata": {},
   "outputs": [
    {
     "name": "stdout",
     "output_type": "stream",
     "text": [
      "2021-12-31\n",
      "2021-12-31\n"
     ]
    }
   ],
   "source": [
    "str = \"20211231\"\n",
    "\n",
    "year = str[0:4]\n",
    "month = str[4:6]\n",
    "day = str[6:]\n",
    "\n",
    "print(year+'-'+month+'-'+day)\n",
    "\n",
    "print(str[0:4]+'-'+str[4:6]+'-'+str[6:])\n"
   ]
  },
  {
   "cell_type": "code",
   "execution_count": 37,
   "id": "c6fbee34",
   "metadata": {},
   "outputs": [
    {
     "name": "stdout",
     "output_type": "stream",
     "text": [
      "202C1231\n"
     ]
    }
   ],
   "source": [
    "# 202C1231\n",
    "\n",
    "str = \"20211231\"\n",
    "\n",
    "# 한번 설정된 문자열은 변경시킬 수 없다!\n",
    "\n",
    "print(str[:3] + 'C' + str[4:])"
   ]
  },
  {
   "cell_type": "markdown",
   "id": "6686b9f8",
   "metadata": {},
   "source": [
    "---"
   ]
  },
  {
   "cell_type": "markdown",
   "id": "bf503500",
   "metadata": {},
   "source": [
    "# 문자열 관련 함수"
   ]
  },
  {
   "cell_type": "code",
   "execution_count": 41,
   "id": "1469653e",
   "metadata": {},
   "outputs": [
    {
     "name": "stdout",
     "output_type": "stream",
     "text": [
      "1\n",
      "14\n"
     ]
    }
   ],
   "source": [
    "# 문자 Count\n",
    "\n",
    "str = \"I have a dream\"\n",
    "#print(str.count())\n",
    "#TypeError: count() takes at least 1 argument (0 given)\n",
    "\n",
    "# 'dream' 이란 글자가 1개 있따!\n",
    "print(str.count('dream')) \n",
    "\n",
    "# 전체길이 알아보기 (띄어쓰기 포함)\n",
    "print(len(str))"
   ]
  },
  {
   "cell_type": "code",
   "execution_count": 43,
   "id": "87af3094",
   "metadata": {},
   "outputs": [
    {
     "name": "stdout",
     "output_type": "stream",
     "text": [
      "5\n",
      "-1\n"
     ]
    }
   ],
   "source": [
    "# 문자 위치 알려주기 (제일 처음에 있는 위치)\n",
    "print(str.find('e'))\n",
    "print(str.find('x')) # 만약 없으면 -1로 뜬다! "
   ]
  },
  {
   "cell_type": "code",
   "execution_count": 44,
   "id": "3f55878f",
   "metadata": {},
   "outputs": [
    {
     "data": {
      "text/plain": [
       "'a,b,c,d'"
      ]
     },
     "execution_count": 44,
     "metadata": {},
     "output_type": "execute_result"
    }
   ],
   "source": [
    "# 문자열 삽입\n",
    "str = ','\n",
    "str.join('abcd')"
   ]
  },
  {
   "cell_type": "code",
   "execution_count": 46,
   "id": "1c1376cc",
   "metadata": {},
   "outputs": [
    {
     "data": {
      "text/plain": [
       "'hi'"
      ]
     },
     "execution_count": 46,
     "metadata": {},
     "output_type": "execute_result"
    }
   ],
   "source": [
    "# 소문자를 대문자로 변경\n",
    "str = 'hi'\n",
    "str.upper()\n",
    "'hi'.upper()\n",
    "\n",
    "# 대문자를 소문자로\n",
    "str = 'HI'\n",
    "str.lower()"
   ]
  },
  {
   "cell_type": "code",
   "execution_count": 47,
   "id": "0bcd6991",
   "metadata": {},
   "outputs": [
    {
     "data": {
      "text/plain": [
       "'hi'"
      ]
     },
     "execution_count": 47,
     "metadata": {},
     "output_type": "execute_result"
    }
   ],
   "source": [
    "# wordCloud\n",
    "\n",
    "# 왼쪽 공백 지우기\n",
    "str = '        hi'\n",
    "str.lstrip()"
   ]
  },
  {
   "cell_type": "code",
   "execution_count": 48,
   "id": "6dd3b9e7",
   "metadata": {},
   "outputs": [
    {
     "data": {
      "text/plain": [
       "'hi'"
      ]
     },
     "execution_count": 48,
     "metadata": {},
     "output_type": "execute_result"
    }
   ],
   "source": [
    "# 오른쪽 공백 지우기\n",
    "str = 'hi        '\n",
    "str.rstrip()"
   ]
  },
  {
   "cell_type": "code",
   "execution_count": 51,
   "id": "fe662424",
   "metadata": {},
   "outputs": [
    {
     "data": {
      "text/plain": [
       "'h   i'"
      ]
     },
     "execution_count": 51,
     "metadata": {},
     "output_type": "execute_result"
    }
   ],
   "source": [
    "# 양쪽 공백 지우기\n",
    "str = '    h   i    '\n",
    "str.strip()"
   ]
  },
  {
   "cell_type": "code",
   "execution_count": 52,
   "id": "3e4fa949",
   "metadata": {},
   "outputs": [
    {
     "data": {
      "text/plain": [
       "'Life is too short to be unhappy'"
      ]
     },
     "execution_count": 52,
     "metadata": {},
     "output_type": "execute_result"
    }
   ],
   "source": [
    "# 문자열 바꾸기\n",
    "str = 'Life is too short to be happy'\n",
    "\n",
    "# happy 를 unhappy로 바꾸기!\n",
    "str.replace('happy', 'unhappy')\n",
    "\n",
    "# 밑에다가 str 쓰면 happy로 뜬다! 왜냐하면 unhappy로 할당해주진 않았기 때문이다."
   ]
  },
  {
   "cell_type": "code",
   "execution_count": 53,
   "id": "fc486b87",
   "metadata": {},
   "outputs": [
    {
     "data": {
      "text/plain": [
       "'Life is too short to be happy'"
      ]
     },
     "execution_count": 53,
     "metadata": {},
     "output_type": "execute_result"
    }
   ],
   "source": [
    "# 문자열 나누기\n",
    "str"
   ]
  },
  {
   "cell_type": "code",
   "execution_count": 55,
   "id": "94fa73c3",
   "metadata": {},
   "outputs": [
    {
     "name": "stdout",
     "output_type": "stream",
     "text": [
      "['Life', 'is', 'too', 'short', 'to', 'be', 'happy']\n"
     ]
    }
   ],
   "source": [
    "list01 = str.split()\n",
    "print(list01)"
   ]
  },
  {
   "cell_type": "code",
   "execution_count": 56,
   "id": "cff3ca2d",
   "metadata": {},
   "outputs": [
    {
     "data": {
      "text/plain": [
       "'2021'"
      ]
     },
     "execution_count": 56,
     "metadata": {},
     "output_type": "execute_result"
    }
   ],
   "source": [
    "str01 = '2021-12-31'\n",
    "str01.split('-')[0]"
   ]
  },
  {
   "cell_type": "code",
   "execution_count": 57,
   "id": "ba81e14a",
   "metadata": {},
   "outputs": [
    {
     "data": {
      "text/plain": [
       "'2021Life'"
      ]
     },
     "execution_count": 57,
     "metadata": {},
     "output_type": "execute_result"
    }
   ],
   "source": [
    "str01.split('-')[0] + list01[0]"
   ]
  },
  {
   "cell_type": "code",
   "execution_count": 60,
   "id": "fb53f4a9",
   "metadata": {},
   "outputs": [
    {
     "data": {
      "text/plain": [
       "list"
      ]
     },
     "execution_count": 60,
     "metadata": {},
     "output_type": "execute_result"
    }
   ],
   "source": [
    "# 타입 확인하는 방법\n",
    "type(list01)\n",
    "\n",
    "# list ? Java의 ArrayList라고 생각!"
   ]
  },
  {
   "cell_type": "code",
   "execution_count": 61,
   "id": "7cf17462",
   "metadata": {},
   "outputs": [
    {
     "data": {
      "text/plain": [
       "str"
      ]
     },
     "execution_count": 61,
     "metadata": {},
     "output_type": "execute_result"
    }
   ],
   "source": [
    "type(str)"
   ]
  },
  {
   "cell_type": "markdown",
   "id": "817eaeff",
   "metadata": {},
   "source": [
    "---"
   ]
  },
  {
   "cell_type": "markdown",
   "id": "c3d7a6ae",
   "metadata": {},
   "source": [
    "# 날짜형 변환"
   ]
  },
  {
   "cell_type": "code",
   "execution_count": null,
   "id": "ccaef377",
   "metadata": {},
   "outputs": [],
   "source": [
    "# 날짜형 변환을 사용하기 위해서는 모듈을 가져와야한다. "
   ]
  },
  {
   "cell_type": "code",
   "execution_count": 64,
   "id": "b00e2a77",
   "metadata": {},
   "outputs": [],
   "source": [
    "from datetime import datetime, timedelta # 날짜형 모듈 불러오기"
   ]
  },
  {
   "cell_type": "code",
   "execution_count": 67,
   "id": "6899db86",
   "metadata": {},
   "outputs": [
    {
     "name": "stdout",
     "output_type": "stream",
     "text": [
      "2021-12-31 12:00:00\n"
     ]
    }
   ],
   "source": [
    "datetime(2021, 7, 9, 12, 11, 20, 21)\n",
    "print(datetime(2021, 12, 31, 12, 0, 0, 0))"
   ]
  },
  {
   "cell_type": "code",
   "execution_count": 74,
   "id": "8d28c496",
   "metadata": {},
   "outputs": [
    {
     "data": {
      "text/plain": [
       "datetime.datetime"
      ]
     },
     "execution_count": 74,
     "metadata": {},
     "output_type": "execute_result"
    }
   ],
   "source": [
    "time1 = datetime(2021, 12, 31, 12, 0, 0, 0)\n",
    "type(time1)"
   ]
  },
  {
   "cell_type": "code",
   "execution_count": 75,
   "id": "bb295d31",
   "metadata": {},
   "outputs": [
    {
     "name": "stdout",
     "output_type": "stream",
     "text": [
      "174 days, 21:13:40.298901\n"
     ]
    }
   ],
   "source": [
    "# 날짜 계산하기\n",
    "time2 = datetime.now()\n",
    "print(time1 - time2)\n",
    "\n",
    "# 올해가 얼마나 남았는지 알려준다!"
   ]
  },
  {
   "cell_type": "code",
   "execution_count": 76,
   "id": "1c90b1ea",
   "metadata": {},
   "outputs": [
    {
     "name": "stdout",
     "output_type": "stream",
     "text": [
      "두 날짜의 차이는 \n",
      "174 일\n"
     ]
    }
   ],
   "source": [
    "# 좀더 편하게 날짜 차이 출력하는 방법\n",
    "print('두 날짜의 차이는 ')\n",
    "print((time1 - time2).days, '일')"
   ]
  },
  {
   "cell_type": "code",
   "execution_count": 102,
   "id": "c7a4b8b5",
   "metadata": {},
   "outputs": [
    {
     "name": "stdout",
     "output_type": "stream",
     "text": [
      "1152 일 만났습니다 ^^\n"
     ]
    }
   ],
   "source": [
    "datetime(2018,5,14)\n",
    "print((time2 - datetime(2018,5,14)).days, '일 만났습니다 ^^')"
   ]
  },
  {
   "cell_type": "code",
   "execution_count": 78,
   "id": "5e5a6a6a",
   "metadata": {},
   "outputs": [
    {
     "name": "stdout",
     "output_type": "stream",
     "text": [
      "현재 시간으로부터 5일 뒤는? \n",
      "2021-07-14 14:46:19.701099\n",
      "현재 시간으로부터 5일 전은? \n",
      "2021-07-04 14:46:19.701099\n"
     ]
    }
   ],
   "source": [
    "# 특정 날짜로 부터 시간 계산\n",
    "print('현재 시간으로부터 5일 뒤는? ')\n",
    "print(time2 + timedelta(days = 5))\n",
    "print('현재 시간으로부터 5일 전은? ')\n",
    "print(time2 + timedelta(days = -5))"
   ]
  },
  {
   "cell_type": "code",
   "execution_count": 97,
   "id": "1f29af9e",
   "metadata": {},
   "outputs": [
    {
     "name": "stdout",
     "output_type": "stream",
     "text": [
      "2021-07-10 12:57:25.434287\n"
     ]
    }
   ],
   "source": [
    "# 현재 시간으로 부터 1일 뒤의 2시간 전\n",
    "\n",
    "timeTom = datetime.now() + timedelta(days = 1, hours = -2) \n",
    "\n",
    "print(timeTom)\n"
   ]
  },
  {
   "cell_type": "code",
   "execution_count": null,
   "id": "87390a92",
   "metadata": {},
   "outputs": [],
   "source": []
  }
 ],
 "metadata": {
  "kernelspec": {
   "display_name": "Python 3",
   "language": "python",
   "name": "python3"
  },
  "language_info": {
   "codemirror_mode": {
    "name": "ipython",
    "version": 3
   },
   "file_extension": ".py",
   "mimetype": "text/x-python",
   "name": "python",
   "nbconvert_exporter": "python",
   "pygments_lexer": "ipython3",
   "version": "3.8.8"
  }
 },
 "nbformat": 4,
 "nbformat_minor": 5
}
