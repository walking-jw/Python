{
 "cells": [
  {
   "cell_type": "markdown",
   "id": "08abb1c6",
   "metadata": {},
   "source": [
    "# --- 변수와 자료형 --- \n",
    "## 변수\n",
    "계산에 필요한 자료를 일시적으로 저장하거나 처리결과를 담을 수 있는 기억장소를 지정해 주는 역할.   \n",
    "변수 이름은 값을 지정하는 영역의 이름으로 할당된다.\n",
    "## 변수 이름의 작성 규칙\n",
    "- 첫자는 영문으로 시작한다.\n",
    "- 첫자를 제외하고 숫자, under_bar, dot을 사용할 수 있다.\n",
    "- 대문자와 소문자를 구분한다.\n",
    "- 변수 이름은 의미를 파악할 수 있는 이름으로 지정하는 것이 좋다.\n",
    "- 두 단어를 포함한 변수 이름을 지정할 경우 두번째 단어의 첫자는 대문자로 표시(camel method) 하거나 underbar(snake method)로 표시하는 것이 가독성이 좋다."
   ]
  },
  {
   "cell_type": "markdown",
   "id": "8a516240",
   "metadata": {},
   "source": [
    "# 자료형\n",
    "## 숫자 자료형"
   ]
  },
  {
   "cell_type": "code",
   "execution_count": 2,
   "id": "5ccf4b3a",
   "metadata": {},
   "outputs": [
    {
     "data": {
      "text/plain": [
       "0"
      ]
     },
     "execution_count": 2,
     "metadata": {},
     "output_type": "execute_result"
    }
   ],
   "source": [
    "# 정수형\n",
    "var01 = 123\n",
    "var01 = -17\n",
    "var01 = 0\n",
    "\n",
    "# print 안쓰고 출력해주는건 jupiter 에서 해주는 것이다.\n",
    "var01"
   ]
  },
  {
   "cell_type": "code",
   "execution_count": 3,
   "id": "1955822d",
   "metadata": {},
   "outputs": [
    {
     "data": {
      "text/plain": [
       "-12.23"
      ]
     },
     "execution_count": 3,
     "metadata": {},
     "output_type": "execute_result"
    }
   ],
   "source": [
    "# 실수형\n",
    "var02 = 1.2\n",
    "var02 = -12.23\n",
    "\n",
    "var02"
   ]
  },
  {
   "cell_type": "code",
   "execution_count": 5,
   "id": "a852b75c",
   "metadata": {},
   "outputs": [
    {
     "name": "stdout",
     "output_type": "stream",
     "text": [
      "덧셈 : 7\n",
      "뺄셈 : -1\n",
      "곱셈 : 12\n",
      "실수 나눗셈 : 0.75\n",
      "정수 나눗셈 몫 : 0\n",
      "정수 나눗셈 나머지 : 3\n",
      "제곱 : 9\n",
      "제곱 : 9\n"
     ]
    }
   ],
   "source": [
    "# 연산자\n",
    "\n",
    "var01 = 3\n",
    "var02 = 4\n",
    "print('덧셈 :', var01 + var02)\n",
    "print('뺄셈 :', var01 - var02)\n",
    "print('곱셈 :', var01 * var02)\n",
    "print('실수 나눗셈 :', var01 / var02)\n",
    "print('정수 나눗셈 몫 :', var01 // var02)\n",
    "print('정수 나눗셈 나머지 :', var01 % var02)\n",
    "print('제곱 :', var01 ** 2 )\n",
    "print('제곱 :', pow(var01, 2))"
   ]
  },
  {
   "cell_type": "markdown",
   "id": "5824c5c4",
   "metadata": {},
   "source": [
    "## 파이썬 모듈을 이용한 수학계산 (import 라고 생각하면 좋다.)\n",
    "\n"
   ]
  },
  {
   "cell_type": "code",
   "execution_count": 7,
   "id": "0f5d1bc7",
   "metadata": {},
   "outputs": [],
   "source": [
    "# 수학계산 모듈 불러오기\n",
    "import math"
   ]
  },
  {
   "cell_type": "code",
   "execution_count": 9,
   "id": "ceca1ec6",
   "metadata": {},
   "outputs": [
    {
     "data": {
      "text/plain": [
       "9.0"
      ]
     },
     "execution_count": 9,
     "metadata": {},
     "output_type": "execute_result"
    }
   ],
   "source": [
    "# 거듭제곱\n",
    "math.pow(var01, 2)"
   ]
  },
  {
   "cell_type": "code",
   "execution_count": 10,
   "id": "b72df9d0",
   "metadata": {},
   "outputs": [
    {
     "data": {
      "text/plain": [
       "1.7320508075688772"
      ]
     },
     "execution_count": 10,
     "metadata": {},
     "output_type": "execute_result"
    }
   ],
   "source": [
    "# 제곱근 (루트)\n",
    "math.sqrt(var01)"
   ]
  },
  {
   "cell_type": "code",
   "execution_count": 11,
   "id": "2fa90570",
   "metadata": {},
   "outputs": [
    {
     "data": {
      "text/plain": [
       "0.8509035245341184"
      ]
     },
     "execution_count": 11,
     "metadata": {},
     "output_type": "execute_result"
    }
   ],
   "source": [
    "# sin(45)\n",
    "math.sin(45)"
   ]
  },
  {
   "cell_type": "code",
   "execution_count": 12,
   "id": "e78c0b91",
   "metadata": {},
   "outputs": [
    {
     "data": {
      "text/plain": [
       "1.0"
      ]
     },
     "execution_count": 12,
     "metadata": {},
     "output_type": "execute_result"
    }
   ],
   "source": [
    "math.pow(math.sin(45), 2) + math.pow(math.cos(45), 2)"
   ]
  },
  {
   "cell_type": "markdown",
   "id": "bffbeb69",
   "metadata": {},
   "source": [
    "# 난수 발생"
   ]
  },
  {
   "cell_type": "code",
   "execution_count": 14,
   "id": "1f8c2888",
   "metadata": {},
   "outputs": [],
   "source": [
    "import random"
   ]
  },
  {
   "cell_type": "code",
   "execution_count": 17,
   "id": "b42c991d",
   "metadata": {},
   "outputs": [
    {
     "data": {
      "text/plain": [
       "52"
      ]
     },
     "execution_count": 17,
     "metadata": {},
     "output_type": "execute_result"
    }
   ],
   "source": [
    "random.randint(1, 100)"
   ]
  },
  {
   "cell_type": "code",
   "execution_count": 18,
   "id": "3918a10a",
   "metadata": {},
   "outputs": [
    {
     "data": {
      "text/plain": [
       "[3, 5, 4]"
      ]
     },
     "execution_count": 18,
     "metadata": {},
     "output_type": "execute_result"
    }
   ],
   "source": [
    "rlist = [1,2,3,4,5]\n",
    "random.sample(rlist, 3)"
   ]
  },
  {
   "cell_type": "code",
   "execution_count": 19,
   "id": "05ea0492",
   "metadata": {
    "scrolled": false
   },
   "outputs": [
    {
     "data": {
      "text/plain": [
       "range(1, 100)"
      ]
     },
     "execution_count": 19,
     "metadata": {},
     "output_type": "execute_result"
    }
   ],
   "source": [
    "# range(여기부터, 여기 바로 전까지)\n",
    "alist = range(1, 100)\n",
    "alist\n",
    "for i in alist:\n",
    "    print(i)"
   ]
  },
  {
   "cell_type": "code",
   "execution_count": 21,
   "id": "35d498b0",
   "metadata": {},
   "outputs": [],
   "source": [
    "# 로또 자동번호 생성기"
   ]
  },
  {
   "cell_type": "code",
   "execution_count": 20,
   "id": "90d4ee03",
   "metadata": {},
   "outputs": [
    {
     "data": {
      "text/plain": [
       "[15, 44, 45, 6, 28, 42]"
      ]
     },
     "execution_count": 20,
     "metadata": {},
     "output_type": "execute_result"
    }
   ],
   "source": [
    "lottoList = range(1, 46)\n",
    "random.sample(lottoList, 6)"
   ]
  },
  {
   "cell_type": "code",
   "execution_count": 22,
   "id": "d0cd785c",
   "metadata": {},
   "outputs": [],
   "source": [
    "# Kernel > restart and Run All"
   ]
  },
  {
   "cell_type": "code",
   "execution_count": 24,
   "id": "44ae18ba",
   "metadata": {
    "scrolled": true
   },
   "outputs": [
    {
     "data": {
      "text/plain": [
       "['In',\n",
       " 'Out',\n",
       " '_',\n",
       " '_1',\n",
       " '_10',\n",
       " '_11',\n",
       " '_12',\n",
       " '_15',\n",
       " '_16',\n",
       " '_17',\n",
       " '_18',\n",
       " '_19',\n",
       " '_2',\n",
       " '_20',\n",
       " '_3',\n",
       " '_9',\n",
       " '__',\n",
       " '___',\n",
       " '__builtin__',\n",
       " '__builtins__',\n",
       " '__doc__',\n",
       " '__loader__',\n",
       " '__name__',\n",
       " '__package__',\n",
       " '__spec__',\n",
       " '_dh',\n",
       " '_i',\n",
       " '_i1',\n",
       " '_i10',\n",
       " '_i11',\n",
       " '_i12',\n",
       " '_i13',\n",
       " '_i14',\n",
       " '_i15',\n",
       " '_i16',\n",
       " '_i17',\n",
       " '_i18',\n",
       " '_i19',\n",
       " '_i2',\n",
       " '_i20',\n",
       " '_i21',\n",
       " '_i22',\n",
       " '_i23',\n",
       " '_i24',\n",
       " '_i3',\n",
       " '_i4',\n",
       " '_i5',\n",
       " '_i6',\n",
       " '_i7',\n",
       " '_i8',\n",
       " '_i9',\n",
       " '_ih',\n",
       " '_ii',\n",
       " '_iii',\n",
       " '_oh',\n",
       " 'alist',\n",
       " 'exit',\n",
       " 'get_ipython',\n",
       " 'lottoList',\n",
       " 'math',\n",
       " 'quit',\n",
       " 'random',\n",
       " 'rlist',\n",
       " 'var01',\n",
       " 'var02']"
      ]
     },
     "execution_count": 24,
     "metadata": {},
     "output_type": "execute_result"
    }
   ],
   "source": [
    "# 메모리에 있는 변수 보기\n",
    "dir()"
   ]
  },
  {
   "cell_type": "code",
   "execution_count": 25,
   "id": "d308f5b3",
   "metadata": {},
   "outputs": [
    {
     "ename": "NameError",
     "evalue": "name 'var01' is not defined",
     "output_type": "error",
     "traceback": [
      "\u001b[0;31m---------------------------------------------------------------------------\u001b[0m",
      "\u001b[0;31mNameError\u001b[0m                                 Traceback (most recent call last)",
      "\u001b[0;32m<ipython-input-25-420553f71a41>\u001b[0m in \u001b[0;36m<module>\u001b[0;34m\u001b[0m\n\u001b[1;32m      1\u001b[0m \u001b[0;31m# 메모리에 있는 변수 지우기\u001b[0m\u001b[0;34m\u001b[0m\u001b[0;34m\u001b[0m\u001b[0;34m\u001b[0m\u001b[0m\n\u001b[1;32m      2\u001b[0m \u001b[0;32mdel\u001b[0m \u001b[0mvar01\u001b[0m\u001b[0;34m\u001b[0m\u001b[0;34m\u001b[0m\u001b[0m\n\u001b[0;32m----> 3\u001b[0;31m \u001b[0mvar01\u001b[0m\u001b[0;34m\u001b[0m\u001b[0;34m\u001b[0m\u001b[0m\n\u001b[0m",
      "\u001b[0;31mNameError\u001b[0m: name 'var01' is not defined"
     ]
    }
   ],
   "source": [
    "# 메모리에 있는 변수 지우기\n",
    "del var01\n",
    "var01"
   ]
  },
  {
   "cell_type": "markdown",
   "id": "657ad51d",
   "metadata": {},
   "source": [
    "---"
   ]
  },
  {
   "cell_type": "markdown",
   "id": "bc97e4e1",
   "metadata": {},
   "source": [
    "# 관계 연산자"
   ]
  },
  {
   "cell_type": "code",
   "execution_count": 26,
   "id": "3e8279ea",
   "metadata": {},
   "outputs": [],
   "source": [
    "num1 = 100\n",
    "num2 = 20"
   ]
  },
  {
   "cell_type": "code",
   "execution_count": 27,
   "id": "ef3c7877",
   "metadata": {},
   "outputs": [
    {
     "name": "stdout",
     "output_type": "stream",
     "text": [
      "False\n",
      "True\n"
     ]
    }
   ],
   "source": [
    "# 동등비교\n",
    "print(num1 == num2)\n",
    "print(num1 != num2)"
   ]
  },
  {
   "cell_type": "code",
   "execution_count": 31,
   "id": "3e8ac6d5",
   "metadata": {},
   "outputs": [
    {
     "name": "stdout",
     "output_type": "stream",
     "text": [
      "True\n",
      "False\n",
      "True\n"
     ]
    }
   ],
   "source": [
    "# 크기비교 (이렇게 쓰면 맨 밑에거만 값을 알려주기때문에 같이 보고싶으면 print 쓰면 된다)\n",
    "num1 > num2\n",
    "num1 < num2\n",
    "\n",
    "print(num1 > num2)\n",
    "print(num1 < num2)\n",
    "print(num1 >= num2)"
   ]
  },
  {
   "cell_type": "markdown",
   "id": "416ff667",
   "metadata": {},
   "source": [
    "# 논리연산자"
   ]
  },
  {
   "cell_type": "code",
   "execution_count": 33,
   "id": "4684127c",
   "metadata": {},
   "outputs": [
    {
     "name": "stdout",
     "output_type": "stream",
     "text": [
      "False\n",
      "True\n"
     ]
    }
   ],
   "source": [
    "# And, Or\n",
    "print ((num1>= 50) & (num2 <=10))\n",
    "print ((num1 >= 50) | (num2 <= 10))"
   ]
  },
  {
   "cell_type": "code",
   "execution_count": 35,
   "id": "1c362c0a",
   "metadata": {},
   "outputs": [
    {
     "data": {
      "text/plain": [
       "False"
      ]
     },
     "execution_count": 35,
     "metadata": {},
     "output_type": "execute_result"
    }
   ],
   "source": [
    "# 부정연산자\n",
    "num1 >= 50\n",
    "not(num1 >= 50)"
   ]
  },
  {
   "cell_type": "markdown",
   "id": "39478e67",
   "metadata": {},
   "source": [
    "# 문자열 자료형"
   ]
  },
  {
   "cell_type": "code",
   "execution_count": 36,
   "id": "d3ee951d",
   "metadata": {},
   "outputs": [
    {
     "data": {
      "text/plain": [
       "'Hello World!'"
      ]
     },
     "execution_count": 36,
     "metadata": {},
     "output_type": "execute_result"
    }
   ],
   "source": [
    "var01 = \"Hello World!\"\n",
    "var01"
   ]
  },
  {
   "cell_type": "code",
   "execution_count": 37,
   "id": "bd123dd7",
   "metadata": {},
   "outputs": [
    {
     "name": "stdout",
     "output_type": "stream",
     "text": [
      "\n",
      "        Hello World!\n",
      "        I'm Fine!\n",
      "        Thank you\n",
      "\n"
     ]
    }
   ],
   "source": [
    "# 여러줄에 문자열 출력\n",
    "\n",
    "var01 = \"\"\"\n",
    "        Hello World!\n",
    "        I'm Fine!\n",
    "        Thank you\n",
    "\"\"\"\n",
    "print(var01)"
   ]
  },
  {
   "cell_type": "code",
   "execution_count": 40,
   "id": "d1f534b0",
   "metadata": {},
   "outputs": [
    {
     "name": "stdout",
     "output_type": "stream",
     "text": [
      "My father's wife is my mother.\n",
      "He says \"Hello!\"\n"
     ]
    }
   ],
   "source": [
    "# \"\"\" \"\"\"이건 <html> 로 되어있는 것을 변수로 쓸때 사용한다!\n",
    "\n",
    "# 쌍따옴표롸 홑따옴표의 사용 (쌍따옴표를 쓰고싶을때는 홑따옴표로 감싸고... )\n",
    "var01 = \"My father's wife is my mother.\"\n",
    "var02 = 'He says \"Hello!\"'\n",
    "print(var01)\n",
    "print(var02)"
   ]
  },
  {
   "cell_type": "code",
   "execution_count": 43,
   "id": "f89b1901",
   "metadata": {},
   "outputs": [
    {
     "name": "stdout",
     "output_type": "stream",
     "text": [
      "aaa\n",
      "bbb\n",
      "aaa\tbbb\n"
     ]
    }
   ],
   "source": [
    "# 특수문자를 사용한 출력 (\\n 다음은 줄바꿈, \\t 는 탭띄우기)\n",
    "var03 = 'aaa\\nbbb'\n",
    "var04 = 'aaa\\tbbb'\n",
    "print(var03)\n",
    "print(var04)"
   ]
  },
  {
   "cell_type": "code",
   "execution_count": null,
   "id": "b7efc3c1",
   "metadata": {},
   "outputs": [],
   "source": []
  }
 ],
 "metadata": {
  "kernelspec": {
   "display_name": "Python 3",
   "language": "python",
   "name": "python3"
  },
  "language_info": {
   "codemirror_mode": {
    "name": "ipython",
    "version": 3
   },
   "file_extension": ".py",
   "mimetype": "text/x-python",
   "name": "python",
   "nbconvert_exporter": "python",
   "pygments_lexer": "ipython3",
   "version": "3.8.8"
  }
 },
 "nbformat": 4,
 "nbformat_minor": 5
}
