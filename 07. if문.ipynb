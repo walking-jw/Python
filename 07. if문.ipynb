{
 "cells": [
  {
   "cell_type": "code",
   "execution_count": 1,
   "id": "0c16d02b",
   "metadata": {},
   "outputs": [],
   "source": [
    "from random import randint"
   ]
  },
  {
   "cell_type": "code",
   "execution_count": 65,
   "id": "80cdc670",
   "metadata": {},
   "outputs": [
    {
     "name": "stdout",
     "output_type": "stream",
     "text": [
      "78 is greater than 50\n",
      "-- end --\n"
     ]
    }
   ],
   "source": [
    "# if\n",
    "x = randint(1,100)\n",
    "x\n",
    "\n",
    "if x > 50:\n",
    "    print(str(x), \"is greater than 50\")\n",
    "    \n",
    "print(\"-- end --\")"
   ]
  },
  {
   "cell_type": "code",
   "execution_count": 69,
   "id": "ac34fbc9",
   "metadata": {},
   "outputs": [
    {
     "name": "stdout",
     "output_type": "stream",
     "text": [
      "61 is greater than 50\n",
      "-- end --\n"
     ]
    }
   ],
   "source": [
    "# if else\n",
    "x = randint(1, 100)\n",
    "\n",
    "if x > 50:\n",
    "    print(str(x), \"is greater than 50\")\n",
    "else:\n",
    "    print(str(x), \"is less or equal to 50\")\n",
    "\n",
    "print(\"-- end --\")"
   ]
  },
  {
   "cell_type": "code",
   "execution_count": 151,
   "id": "7492bc01",
   "metadata": {},
   "outputs": [
    {
     "name": "stdout",
     "output_type": "stream",
     "text": [
      "24 is less than 50\n"
     ]
    }
   ],
   "source": [
    "# if elif else\n",
    "x = randint(1, 100)\n",
    "\n",
    "if x > 50:\n",
    "    print(str(x), \"is greater than 50\")\n",
    "elif x == 50:\n",
    "    print(str(x), \"is equal to 50\")\n",
    "else:\n",
    "    print(str(x), \"is less than 50\")\n"
   ]
  },
  {
   "cell_type": "code",
   "execution_count": 7,
   "id": "c3c515ef",
   "metadata": {},
   "outputs": [
    {
     "name": "stdout",
     "output_type": "stream",
     "text": [
      "숫자를 입력하세요15\n",
      "15 은 홀수입니다.\n"
     ]
    }
   ],
   "source": [
    "# 사용자로부터 숫자를 입력받아 홀짝수 구분\n",
    "# 예 ) 24은 짝수 입니다.\n",
    "x = int(input(\"숫자를 입력하세요\"))\n",
    "index = x%2\n",
    "\n",
    "if index > 0:\n",
    "    print(str(x), \"은 홀수입니다.\")\n",
    "else:\n",
    "    print(str(x), \"은 짝수입니다.\")"
   ]
  },
  {
   "cell_type": "code",
   "execution_count": 24,
   "id": "f86170be",
   "metadata": {},
   "outputs": [
    {
     "name": "stdout",
     "output_type": "stream",
     "text": [
      "숫자를 입력하세요-10\n",
      "-10\n",
      "잘못된 점수입니다. 다시 입력해주세요\n"
     ]
    }
   ],
   "source": [
    "# 사용자로부터 점수를 입력받아 등급을 계산하여 출력하세요\n",
    "# 예) 점수는 89점이고 B학점 입니다.\n",
    "\n",
    "grade = int(input(\"숫자를 입력하세요\"))\n",
    "\n",
    "print(grade)\n",
    "\n",
    "if grade > 100:\n",
    "    print(\"잘못된 점수입니다. 다시 입력해주세요\")\n",
    "elif grade >= 90:\n",
    "    print(\"점수는\", str(grade)+\"점이고 A학점 입니다.\")\n",
    "elif grade >= 80:\n",
    "    print(\"점수는\", str(grade)+\"점이고 B학점 입니다.\")\n",
    "elif grade >= 70:\n",
    "    print(\"점수는\", str(grade)+\"점이고 C학점 입니다.\")\n",
    "elif grade >= 60:\n",
    "    print(\"점수는\", str(grade)+\"점이고 D학점 입니다.\")\n",
    "elif grade >= 0:\n",
    "    print(\"점수는\", str(grade)+\"점이고 F학점 입니다.\")\n",
    "else:\n",
    "    print(\"잘못된 점수입니다. 다시 입력해주세요\")"
   ]
  },
  {
   "cell_type": "code",
   "execution_count": null,
   "id": "c48fb551",
   "metadata": {},
   "outputs": [],
   "source": []
  }
 ],
 "metadata": {
  "kernelspec": {
   "display_name": "Python 3",
   "language": "python",
   "name": "python3"
  },
  "language_info": {
   "codemirror_mode": {
    "name": "ipython",
    "version": 3
   },
   "file_extension": ".py",
   "mimetype": "text/x-python",
   "name": "python",
   "nbconvert_exporter": "python",
   "pygments_lexer": "ipython3",
   "version": "3.8.8"
  }
 },
 "nbformat": 4,
 "nbformat_minor": 5
}
