{
 "cells": [
  {
   "cell_type": "markdown",
   "id": "478bd31d",
   "metadata": {},
   "source": [
    "## range 함수\n",
    "### range(시작숫자, 끝숫자, 증가값)"
   ]
  },
  {
   "cell_type": "code",
   "execution_count": 1,
   "id": "9bc55d9e",
   "metadata": {},
   "outputs": [
    {
     "data": {
      "text/plain": [
       "range(1, 11)"
      ]
     },
     "execution_count": 1,
     "metadata": {},
     "output_type": "execute_result"
    }
   ],
   "source": [
    "var = range(1, 11)\n",
    "var"
   ]
  },
  {
   "cell_type": "code",
   "execution_count": 2,
   "id": "39a565c1",
   "metadata": {},
   "outputs": [
    {
     "data": {
      "text/plain": [
       "[1, 2, 3, 4, 5, 6, 7, 8, 9, 10]"
      ]
     },
     "execution_count": 2,
     "metadata": {},
     "output_type": "execute_result"
    }
   ],
   "source": [
    "# range 의 범위를 list로 출력\n",
    "\n",
    "# 파이썬에서 리스트로 감싸는거 무지 많음!!\n",
    "list(range(1, 11))"
   ]
  },
  {
   "cell_type": "code",
   "execution_count": 3,
   "id": "b9f3ef73",
   "metadata": {},
   "outputs": [
    {
     "data": {
      "text/plain": [
       "[0, 2, 4, 6, 8, 10]"
      ]
     },
     "execution_count": 3,
     "metadata": {},
     "output_type": "execute_result"
    }
   ],
   "source": [
    "list(range(0, 11, 2))\n",
    "# 2씩 증가한거라, 짝수만 가져왔다!"
   ]
  },
  {
   "cell_type": "code",
   "execution_count": 4,
   "id": "e1c3c98c",
   "metadata": {},
   "outputs": [
    {
     "data": {
      "text/plain": [
       "[10, 8, 6, 4, 2]"
      ]
     },
     "execution_count": 4,
     "metadata": {},
     "output_type": "execute_result"
    }
   ],
   "source": [
    "list(range(10, 0, -2))"
   ]
  },
  {
   "cell_type": "code",
   "execution_count": 5,
   "id": "6db3425b",
   "metadata": {},
   "outputs": [
    {
     "data": {
      "text/plain": [
       "[]"
      ]
     },
     "execution_count": 5,
     "metadata": {},
     "output_type": "execute_result"
    }
   ],
   "source": [
    "list(range(0, 10, -2))\n",
    "# 오류나면 그냥 빈값으로밖에 안나옴..."
   ]
  },
  {
   "cell_type": "code",
   "execution_count": 6,
   "id": "cce6ed98",
   "metadata": {},
   "outputs": [
    {
     "data": {
      "text/plain": [
       "10"
      ]
     },
     "execution_count": 6,
     "metadata": {},
     "output_type": "execute_result"
    }
   ],
   "source": [
    "var[9]"
   ]
  },
  {
   "cell_type": "code",
   "execution_count": 7,
   "id": "69a1fd32",
   "metadata": {},
   "outputs": [
    {
     "data": {
      "text/plain": [
       "range"
      ]
     },
     "execution_count": 7,
     "metadata": {},
     "output_type": "execute_result"
    }
   ],
   "source": [
    "type(var)"
   ]
  },
  {
   "cell_type": "code",
   "execution_count": 8,
   "id": "d2d08692",
   "metadata": {},
   "outputs": [],
   "source": [
    "# range 타입니다"
   ]
  },
  {
   "cell_type": "markdown",
   "id": "a4192cee",
   "metadata": {},
   "source": [
    "---"
   ]
  },
  {
   "cell_type": "markdown",
   "id": "a21ac614",
   "metadata": {},
   "source": [
    "# for 문에 range 함수 사용하기 "
   ]
  },
  {
   "cell_type": "code",
   "execution_count": 9,
   "id": "0b00e60f",
   "metadata": {},
   "outputs": [
    {
     "name": "stdout",
     "output_type": "stream",
     "text": [
      "1\n",
      "2\n",
      "3\n",
      "4\n",
      "5\n",
      "6\n",
      "7\n",
      "8\n",
      "9\n",
      "10\n"
     ]
    }
   ],
   "source": [
    "for i in range(1, 11):\n",
    "    print(i)"
   ]
  },
  {
   "cell_type": "code",
   "execution_count": 10,
   "id": "41780d27",
   "metadata": {},
   "outputs": [
    {
     "name": "stdout",
     "output_type": "stream",
     "text": [
      "0\n",
      "1\n",
      "2\n",
      "3\n",
      "4\n"
     ]
    }
   ],
   "source": [
    "for i in range(5):\n",
    "    print(i)"
   ]
  },
  {
   "cell_type": "code",
   "execution_count": 11,
   "id": "1415c69a",
   "metadata": {},
   "outputs": [],
   "source": [
    "# 하나만 찍으면 끝 숫자가 나온다!!"
   ]
  },
  {
   "cell_type": "code",
   "execution_count": 14,
   "id": "c313f90b",
   "metadata": {},
   "outputs": [
    {
     "name": "stdout",
     "output_type": "stream",
     "text": [
      "1\n",
      "3\n",
      "5\n",
      "7\n",
      "9\n"
     ]
    }
   ],
   "source": [
    "# 1부터 10까지의 수중 홀수만 출력하기\n",
    "for i in range(1, 11, 2):\n",
    "    print(i)"
   ]
  },
  {
   "cell_type": "code",
   "execution_count": 19,
   "id": "5a37a5fc",
   "metadata": {},
   "outputs": [
    {
     "name": "stdout",
     "output_type": "stream",
     "text": [
      "9 X 1 =  9\n",
      "9 X 2 = 18\n",
      "9 X 3 = 27\n",
      "9 X 4 = 36\n",
      "9 X 5 = 45\n",
      "9 X 6 = 54\n",
      "9 X 7 = 63\n",
      "9 X 8 = 72\n",
      "9 X 9 = 81\n"
     ]
    }
   ],
   "source": [
    "# 구구단 9단 출력\n",
    "\n",
    "for i in range(1, 10):\n",
    "\n",
    "    print(9, 'X', i, '=', \"%2d\" %(9*i))\n"
   ]
  },
  {
   "cell_type": "code",
   "execution_count": 20,
   "id": "21e8e4c0",
   "metadata": {},
   "outputs": [
    {
     "name": "stdout",
     "output_type": "stream",
     "text": [
      "aaa bbb\n"
     ]
    }
   ],
   "source": [
    "print('aaa', end = ' ')\n",
    "print('bbb')\n",
    "# print 뒤에 '\\n'이 기본적으로 들어있다!\n"
   ]
  },
  {
   "cell_type": "code",
   "execution_count": 23,
   "id": "4d284a2f",
   "metadata": {},
   "outputs": [
    {
     "name": "stdout",
     "output_type": "stream",
     "text": [
      " 2  4  6  8 10 12 14 16 18 \n",
      " 3  6  9 12 15 18 21 24 27 \n",
      " 4  8 12 16 20 24 28 32 36 \n",
      " 5 10 15 20 25 30 35 40 45 \n",
      " 6 12 18 24 30 36 42 48 54 \n",
      " 7 14 21 28 35 42 49 56 63 \n",
      " 8 16 24 32 40 48 56 64 72 \n",
      " 9 18 27 36 45 54 63 72 81 \n"
     ]
    }
   ],
   "source": [
    "for front in range(2, 10):\n",
    "    for back in range(1, 10):\n",
    "        print(\"%2d\" %(front*back), end = ' ')\n",
    "    print()"
   ]
  },
  {
   "cell_type": "markdown",
   "id": "c889982e",
   "metadata": {},
   "source": [
    "---"
   ]
  },
  {
   "cell_type": "markdown",
   "id": "e397ae48",
   "metadata": {},
   "source": [
    "## for문에 list 사용하기"
   ]
  },
  {
   "cell_type": "code",
   "execution_count": 24,
   "id": "501566e9",
   "metadata": {},
   "outputs": [],
   "source": [
    "test_list = ['one', 'two', 'three']\n"
   ]
  },
  {
   "cell_type": "code",
   "execution_count": 25,
   "id": "4ad4b16d",
   "metadata": {},
   "outputs": [
    {
     "name": "stdout",
     "output_type": "stream",
     "text": [
      "one\n",
      "two\n",
      "three\n"
     ]
    }
   ],
   "source": [
    "for i in test_list:\n",
    "    print(i)\n",
    "# 지금처럼 하나쓰고 내려가고 두번째꺼 쓰고 내려가고 한다!\n"
   ]
  },
  {
   "cell_type": "code",
   "execution_count": 26,
   "id": "61893967",
   "metadata": {},
   "outputs": [
    {
     "name": "stdout",
     "output_type": "stream",
     "text": [
      "80.75\n"
     ]
    }
   ],
   "source": [
    "# 평균 구하기\n",
    "scores = [78, 85, 95, 65]\n",
    "\n",
    "# 이렇게 배열은 복수, for에는 단수를 많이 쓴다.\n",
    "total = 0\n",
    "for score in scores:\n",
    "    total += score\n",
    "    \n",
    "print(total/ len(scores))"
   ]
  },
  {
   "cell_type": "markdown",
   "id": "5c12db2c",
   "metadata": {},
   "source": [
    "## for문에 Tuple 사용하기"
   ]
  },
  {
   "cell_type": "code",
   "execution_count": 27,
   "id": "61eda01e",
   "metadata": {},
   "outputs": [
    {
     "name": "stdout",
     "output_type": "stream",
     "text": [
      "1 : 2\n",
      "3 : 4\n",
      "5 : 6\n"
     ]
    }
   ],
   "source": [
    "# tuple 은 한번 지정해주면 수정삭제가 안된다.\n",
    "\n",
    "var = [(1,2), (3,4), (5,6)]\n",
    "\n",
    "# 튜플 사용할때는 , 로 구분해서 2개 써주면 된다.\n",
    "for first, last in var:\n",
    "    print(first, \":\", last)"
   ]
  },
  {
   "cell_type": "code",
   "execution_count": 28,
   "id": "e15b78fe",
   "metadata": {},
   "outputs": [
    {
     "name": "stdout",
     "output_type": "stream",
     "text": [
      "21\n"
     ]
    }
   ],
   "source": [
    "sum1 = 0\n",
    "for first, last in var:\n",
    "    sum1 += first + last\n",
    "    \n",
    "print(sum1)"
   ]
  },
  {
   "cell_type": "code",
   "execution_count": 29,
   "id": "8a74f342",
   "metadata": {},
   "outputs": [],
   "source": [
    "# 총 5명의 학생이 시험을 보았는데, 시험점수가 60점을 넘으면 합격이다. 합불 결과 보여주기"
   ]
  },
  {
   "cell_type": "code",
   "execution_count": 34,
   "id": "44063286",
   "metadata": {},
   "outputs": [
    {
     "name": "stdout",
     "output_type": "stream",
     "text": [
      "1 의 학생은 합격입니다.\n",
      "2 의 학생은 불합격입니다.\n",
      "3 의 학생은 합격입니다.\n",
      "4 의 학생은 불합격입니다.\n",
      "5 의 학생은 합격입니다.\n"
     ]
    }
   ],
   "source": [
    "scores = [90, 25, 67, 45, 80]\n",
    "\n",
    "for number in range(len(scores)):\n",
    "    if scores[number] >= 60:\n",
    "        print(number+1, \"의 학생은 합격입니다.\")\n",
    "    else:\n",
    "        print(number+1, \"의 학생은 불합격입니다.\")\n",
    "        \n",
    "# 배열의 index를 활용한 방법"
   ]
  },
  {
   "cell_type": "code",
   "execution_count": 42,
   "id": "5d5f4311",
   "metadata": {},
   "outputs": [
    {
     "name": "stdout",
     "output_type": "stream",
     "text": [
      "1의 학생은 점수가 90이므로 합격입니다.\n",
      "2의 학생은 점수가 25이어서 불합격입니다.\n",
      "3의 학생은 점수가 67이므로 합격입니다.\n",
      "4의 학생은 점수가 45이어서 불합격입니다.\n",
      "5의 학생은 점수가 80이므로 합격입니다.\n"
     ]
    }
   ],
   "source": [
    "scores = [90, 25, 67, 45, 80]\n",
    "\n",
    "number = 1\n",
    "\n",
    "for score in scores:\n",
    "    if score >= 60:\n",
    "        print(\"%d의 학생은 점수가\" %number, \"%2d이므로\" %score,\"합격입니다.\")\n",
    "    else:\n",
    "        print(\"%d의 학생은 점수가 %2d이어서 불합격입니다.\" %(number, score))\n",
    "    number += 1"
   ]
  },
  {
   "cell_type": "markdown",
   "id": "4f9dc841",
   "metadata": {},
   "source": [
    "### 학생들 점수의 평균을 구하여 평균점수 기준으로 합격 불합격 보여주기"
   ]
  },
  {
   "cell_type": "code",
   "execution_count": 43,
   "id": "ee34e70f",
   "metadata": {},
   "outputs": [],
   "source": [
    "import numpy as np"
   ]
  },
  {
   "cell_type": "code",
   "execution_count": 48,
   "id": "661d1494",
   "metadata": {},
   "outputs": [
    {
     "name": "stdout",
     "output_type": "stream",
     "text": [
      "학급의 평균 점수는 61.40입니다.\n",
      "1의 학생은 점수가 90이어서 합격입니다.\n",
      "2의 학생은 점수가 25이어서 불합격입니다.\n",
      "3의 학생은 점수가 67이어서 합격입니다.\n",
      "4의 학생은 점수가 45이어서 불합격입니다.\n",
      "5의 학생은 점수가 80이어서 합격입니다.\n"
     ]
    }
   ],
   "source": [
    "scores = [90, 25, 67, 45, 80]\n",
    "\n",
    "number = 1\n",
    "\n",
    "print(\"학급의 평균 점수는 %0.2f입니다.\" %np.mean(scores))\n",
    "\n",
    "for score in scores:\n",
    "    if score >= np.mean(scores):\n",
    "        print(\"%d의 학생은 점수가 %2d이어서 합격입니다.\" %(number, score))\n",
    "    else:\n",
    "        print(\"%d의 학생은 점수가 %2d이어서 불합격입니다.\" %(number, score))\n",
    "    number += 1"
   ]
  },
  {
   "cell_type": "code",
   "execution_count": 49,
   "id": "0d3d5e9f",
   "metadata": {},
   "outputs": [
    {
     "name": "stdout",
     "output_type": "stream",
     "text": [
      "[5, 10, 15, 20]\n"
     ]
    }
   ],
   "source": [
    "var01 = [1,2,3,4]\n",
    "var02 = []\n",
    "\n",
    "for i in var01:\n",
    "    var02.append(i*5)\n",
    "    \n",
    "print(var02)"
   ]
  },
  {
   "cell_type": "markdown",
   "id": "c314cd31",
   "metadata": {},
   "source": [
    "---"
   ]
  },
  {
   "cell_type": "markdown",
   "id": "fc0e8f32",
   "metadata": {},
   "source": [
    "# Python 의 listed for문"
   ]
  },
  {
   "cell_type": "code",
   "execution_count": 51,
   "id": "9e3dd17f",
   "metadata": {},
   "outputs": [],
   "source": [
    "var01 = [1,2,3,4]\n",
    "var02 = []\n",
    "\n",
    "var02 = [i*5 for i in var01]\n",
    "# for 문이 안에 들어가고 append가 먼저 왔다!\n"
   ]
  },
  {
   "cell_type": "code",
   "execution_count": null,
   "id": "f1a04d44",
   "metadata": {},
   "outputs": [],
   "source": [
    "# 위의 소스에서 짝수인 경우에만 5를 곱하는 리스트 만들기"
   ]
  },
  {
   "cell_type": "code",
   "execution_count": 61,
   "id": "ba4ca40b",
   "metadata": {},
   "outputs": [
    {
     "data": {
      "text/plain": [
       "[10, 20]"
      ]
     },
     "execution_count": 61,
     "metadata": {},
     "output_type": "execute_result"
    }
   ],
   "source": [
    "var01 = [1,2,3,4]\n",
    "var02 = []\n",
    "\n",
    "var02 = [i*5 for i in var01 if i%2==0]\n",
    "# [ 넣을것(결과값) , for 문, if 문]\n",
    "var02"
   ]
  },
  {
   "cell_type": "code",
   "execution_count": 77,
   "id": "8b094e56",
   "metadata": {},
   "outputs": [
    {
     "name": "stdout",
     "output_type": "stream",
     "text": [
      "[2, 4, 6, 8, 10, 12, 14, 16, 18, 3, 6, 9, 12, 15, 18, 21, 24, 27, 4, 8, 12, 16, 20, 24, 28, 32, 36, 5, 10, 15, 20, 25, 30, 35, 40, 45, 6, 12, 18, 24, 30, 36, 42, 48, 54, 7, 14, 21, 28, 35, 42, 49, 56, 63, 8, 16, 24, 32, 40, 48, 56, 64, 72, 9, 18, 27, 36, 45, 54, 63, 72, 81]\n"
     ]
    }
   ],
   "source": [
    "var = []\n",
    "var = [front*back for front in range(2, 10) for back in range(1, 10)]\n",
    "print(var)"
   ]
  },
  {
   "cell_type": "code",
   "execution_count": 80,
   "id": "7af97b22",
   "metadata": {},
   "outputs": [
    {
     "name": "stdout",
     "output_type": "stream",
     "text": [
      "합격한 학생들의 평균 점수는 79.00입니다.\n"
     ]
    }
   ],
   "source": [
    "# 60점 이상의 학생점수만 List로 만들어 평균 구하기\n",
    "scores = [90, 25, 67, 45, 80]\n",
    "\n",
    "passList = [score for score in scores if score >=60]\n",
    "\n",
    "import numpy as np\n",
    "\n",
    "print(\"합격한 학생들의 평균 점수는 %.2f입니다.\"%np.mean(passList))"
   ]
  },
  {
   "cell_type": "code",
   "execution_count": null,
   "id": "d2a60bf2",
   "metadata": {},
   "outputs": [],
   "source": []
  }
 ],
 "metadata": {
  "kernelspec": {
   "display_name": "Python 3",
   "language": "python",
   "name": "python3"
  },
  "language_info": {
   "codemirror_mode": {
    "name": "ipython",
    "version": 3
   },
   "file_extension": ".py",
   "mimetype": "text/x-python",
   "name": "python",
   "nbconvert_exporter": "python",
   "pygments_lexer": "ipython3",
   "version": "3.8.8"
  }
 },
 "nbformat": 4,
 "nbformat_minor": 5
}
